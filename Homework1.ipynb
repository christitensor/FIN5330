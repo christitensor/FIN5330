{
  "nbformat": 4,
  "nbformat_minor": 0,
  "metadata": {
    "colab": {
      "name": "Homework1.ipynb",
      "version": "0.3.2",
      "provenance": [],
      "collapsed_sections": [],
      "include_colab_link": true
    },
    "kernelspec": {
      "name": "python3",
      "display_name": "Python 3"
    }
  },
  "cells": [
    {
      "cell_type": "markdown",
      "metadata": {
        "id": "view-in-github",
        "colab_type": "text"
      },
      "source": [
        "<a href=\"https://colab.research.google.com/github/christitensor/homeworkFIN5330/blob/master/Homework1.ipynb\" target=\"_parent\"><img src=\"https://colab.research.google.com/assets/colab-badge.svg\" alt=\"Open In Colab\"/></a>"
      ]
    },
    {
      "metadata": {
        "id": "01AYpyaavNY0",
        "colab_type": "code",
        "outputId": "06cb4dad-a03a-4c28-fb1c-11d59e93ee94",
        "colab": {
          "base_uri": "https://localhost:8080/",
          "height": 204
        }
      },
      "cell_type": "code",
      "source": [
        "import numpy as np\n",
        "import pandas as pd\n",
        "\n",
        "rawData = pd.read_csv(\"https://raw.githubusercontent.com/broughtj/Fin5330/master/Assignments/stock-data-hwk1.csv \")\n",
        "\n",
        "rawData.head()\n",
        "\n"
      ],
      "execution_count": 7,
      "outputs": [
        {
          "output_type": "execute_result",
          "data": {
            "text/html": [
              "<div>\n",
              "<style scoped>\n",
              "    .dataframe tbody tr th:only-of-type {\n",
              "        vertical-align: middle;\n",
              "    }\n",
              "\n",
              "    .dataframe tbody tr th {\n",
              "        vertical-align: top;\n",
              "    }\n",
              "\n",
              "    .dataframe thead th {\n",
              "        text-align: right;\n",
              "    }\n",
              "</style>\n",
              "<table border=\"1\" class=\"dataframe\">\n",
              "  <thead>\n",
              "    <tr style=\"text-align: right;\">\n",
              "      <th></th>\n",
              "      <th>PERMNO</th>\n",
              "      <th>date</th>\n",
              "      <th>TICKER</th>\n",
              "      <th>PRC</th>\n",
              "      <th>vwretd</th>\n",
              "      <th>ewretd</th>\n",
              "    </tr>\n",
              "  </thead>\n",
              "  <tbody>\n",
              "    <tr>\n",
              "      <th>0</th>\n",
              "      <td>18542</td>\n",
              "      <td>19990104</td>\n",
              "      <td>CAT</td>\n",
              "      <td>47.3750</td>\n",
              "      <td>-0.000822</td>\n",
              "      <td>0.011409</td>\n",
              "    </tr>\n",
              "    <tr>\n",
              "      <th>1</th>\n",
              "      <td>18542</td>\n",
              "      <td>19990105</td>\n",
              "      <td>CAT</td>\n",
              "      <td>47.2500</td>\n",
              "      <td>0.011879</td>\n",
              "      <td>0.009512</td>\n",
              "    </tr>\n",
              "    <tr>\n",
              "      <th>2</th>\n",
              "      <td>18542</td>\n",
              "      <td>19990106</td>\n",
              "      <td>CAT</td>\n",
              "      <td>48.5000</td>\n",
              "      <td>0.021143</td>\n",
              "      <td>0.014866</td>\n",
              "    </tr>\n",
              "    <tr>\n",
              "      <th>3</th>\n",
              "      <td>18542</td>\n",
              "      <td>19990107</td>\n",
              "      <td>CAT</td>\n",
              "      <td>48.9375</td>\n",
              "      <td>-0.000798</td>\n",
              "      <td>0.003560</td>\n",
              "    </tr>\n",
              "    <tr>\n",
              "      <th>4</th>\n",
              "      <td>18542</td>\n",
              "      <td>19990108</td>\n",
              "      <td>CAT</td>\n",
              "      <td>51.0000</td>\n",
              "      <td>0.004602</td>\n",
              "      <td>0.009410</td>\n",
              "    </tr>\n",
              "  </tbody>\n",
              "</table>\n",
              "</div>"
            ],
            "text/plain": [
              "   PERMNO      date TICKER      PRC    vwretd    ewretd\n",
              "0   18542  19990104    CAT  47.3750 -0.000822  0.011409\n",
              "1   18542  19990105    CAT  47.2500  0.011879  0.009512\n",
              "2   18542  19990106    CAT  48.5000  0.021143  0.014866\n",
              "3   18542  19990107    CAT  48.9375 -0.000798  0.003560\n",
              "4   18542  19990108    CAT  51.0000  0.004602  0.009410"
            ]
          },
          "metadata": {
            "tags": []
          },
          "execution_count": 7
        }
      ]
    },
    {
      "metadata": {
        "id": "Lquw_0Tw0JzP",
        "colab_type": "code",
        "colab": {}
      },
      "cell_type": "code",
      "source": [
        "tickers = ['AXP', 'CAT', 'SBUX']\n",
        "\n",
        "ind = rawData.TICKER == tickers[0]\n",
        "axpData = rawData[ind]\n",
        "\n",
        "ind = rawData.TICKER == tickers[1]\n",
        "catData = rawData[ind]\n",
        "\n",
        "ind = rawData.TICKER == tickers[2]\n",
        "sbuxData = rawData[ind]"
      ],
      "execution_count": 0,
      "outputs": []
    },
    {
      "metadata": {
        "id": "N5NAGWmd0fID",
        "colab_type": "code",
        "colab": {}
      },
      "cell_type": "code",
      "source": [
        "dfSBUX = pd.DataFrame( data=sbuxData )"
      ],
      "execution_count": 0,
      "outputs": []
    },
    {
      "metadata": {
        "id": "jpxvhH310iLr",
        "colab_type": "code",
        "colab": {}
      },
      "cell_type": "code",
      "source": [
        "dfAXP = pd.DataFrame( data=axpData)\n",
        "dfCAT = pd.DataFrame( data=catData)"
      ],
      "execution_count": 0,
      "outputs": []
    },
    {
      "metadata": {
        "id": "FZXh-QLEzZNR",
        "colab_type": "code",
        "colab": {}
      },
      "cell_type": "code",
      "source": [
        "AXPdaily_return = dfAXP.PRC.pct_change(1)*100\n",
        "CATdaily_return = dfCAT.PRC.pct_change(1)*100\n",
        "SBUXdaily_return = dfSBUX.PRC.pct_change(1)*100"
      ],
      "execution_count": 0,
      "outputs": []
    },
    {
      "metadata": {
        "id": "-xdJErBC_Yu0",
        "colab_type": "code",
        "outputId": "0cdc2489-5ae8-47d1-e65b-7c64bab86aea",
        "colab": {
          "base_uri": "https://localhost:8080/",
          "height": 125
        }
      },
      "cell_type": "code",
      "source": [
        "AXPdaily_return.head()"
      ],
      "execution_count": 15,
      "outputs": [
        {
          "output_type": "execute_result",
          "data": {
            "text/plain": [
              "2515         NaN\n",
              "2516   -1.908867\n",
              "2517    4.080352\n",
              "2518    1.206273\n",
              "2519    3.039333\n",
              "Name: PRC, dtype: float64"
            ]
          },
          "metadata": {
            "tags": []
          },
          "execution_count": 15
        }
      ]
    },
    {
      "metadata": {
        "id": "zDyzPnGE_bR0",
        "colab_type": "code",
        "colab": {}
      },
      "cell_type": "code",
      "source": [
        "dfAXPreturn = pd.DataFrame(AXPdaily_return)\n",
        "dfCATreturn = pd.DataFrame(CATdaily_return)\n",
        "dfSBUXreturn = pd.DataFrame(SBUXdaily_return)"
      ],
      "execution_count": 0,
      "outputs": []
    },
    {
      "metadata": {
        "id": "DOqXcYwGm2qR",
        "colab_type": "code",
        "outputId": "072635ee-acf5-46d8-a173-fc13ed66b0eb",
        "colab": {
          "base_uri": "https://localhost:8080/",
          "height": 297
        }
      },
      "cell_type": "code",
      "source": [
        "dfAXPreturn.describe()"
      ],
      "execution_count": 18,
      "outputs": [
        {
          "output_type": "execute_result",
          "data": {
            "text/html": [
              "<div>\n",
              "<style scoped>\n",
              "    .dataframe tbody tr th:only-of-type {\n",
              "        vertical-align: middle;\n",
              "    }\n",
              "\n",
              "    .dataframe tbody tr th {\n",
              "        vertical-align: top;\n",
              "    }\n",
              "\n",
              "    .dataframe thead th {\n",
              "        text-align: right;\n",
              "    }\n",
              "</style>\n",
              "<table border=\"1\" class=\"dataframe\">\n",
              "  <thead>\n",
              "    <tr style=\"text-align: right;\">\n",
              "      <th></th>\n",
              "      <th>PRC</th>\n",
              "    </tr>\n",
              "  </thead>\n",
              "  <tbody>\n",
              "    <tr>\n",
              "      <th>count</th>\n",
              "      <td>2514.000000</td>\n",
              "    </tr>\n",
              "    <tr>\n",
              "      <th>mean</th>\n",
              "      <td>-0.021060</td>\n",
              "    </tr>\n",
              "    <tr>\n",
              "      <th>std</th>\n",
              "      <td>2.782413</td>\n",
              "    </tr>\n",
              "    <tr>\n",
              "      <th>min</th>\n",
              "      <td>-65.475153</td>\n",
              "    </tr>\n",
              "    <tr>\n",
              "      <th>25%</th>\n",
              "      <td>-1.119254</td>\n",
              "    </tr>\n",
              "    <tr>\n",
              "      <th>50%</th>\n",
              "      <td>-0.021952</td>\n",
              "    </tr>\n",
              "    <tr>\n",
              "      <th>75%</th>\n",
              "      <td>1.087303</td>\n",
              "    </tr>\n",
              "    <tr>\n",
              "      <th>max</th>\n",
              "      <td>17.926566</td>\n",
              "    </tr>\n",
              "  </tbody>\n",
              "</table>\n",
              "</div>"
            ],
            "text/plain": [
              "               PRC\n",
              "count  2514.000000\n",
              "mean     -0.021060\n",
              "std       2.782413\n",
              "min     -65.475153\n",
              "25%      -1.119254\n",
              "50%      -0.021952\n",
              "75%       1.087303\n",
              "max      17.926566"
            ]
          },
          "metadata": {
            "tags": []
          },
          "execution_count": 18
        }
      ]
    },
    {
      "metadata": {
        "id": "vRCOk_eNn2W9",
        "colab_type": "code",
        "outputId": "f7fd27a9-6c1a-4b06-a94f-9d9b4caccb34",
        "colab": {
          "base_uri": "https://localhost:8080/",
          "height": 297
        }
      },
      "cell_type": "code",
      "source": [
        "dfCATreturn.describe()\n"
      ],
      "execution_count": 19,
      "outputs": [
        {
          "output_type": "execute_result",
          "data": {
            "text/html": [
              "<div>\n",
              "<style scoped>\n",
              "    .dataframe tbody tr th:only-of-type {\n",
              "        vertical-align: middle;\n",
              "    }\n",
              "\n",
              "    .dataframe tbody tr th {\n",
              "        vertical-align: top;\n",
              "    }\n",
              "\n",
              "    .dataframe thead th {\n",
              "        text-align: right;\n",
              "    }\n",
              "</style>\n",
              "<table border=\"1\" class=\"dataframe\">\n",
              "  <thead>\n",
              "    <tr style=\"text-align: right;\">\n",
              "      <th></th>\n",
              "      <th>PRC</th>\n",
              "    </tr>\n",
              "  </thead>\n",
              "  <tbody>\n",
              "    <tr>\n",
              "      <th>count</th>\n",
              "      <td>2514.000000</td>\n",
              "    </tr>\n",
              "    <tr>\n",
              "      <th>mean</th>\n",
              "      <td>0.028503</td>\n",
              "    </tr>\n",
              "    <tr>\n",
              "      <th>std</th>\n",
              "      <td>2.380176</td>\n",
              "    </tr>\n",
              "    <tr>\n",
              "      <th>min</th>\n",
              "      <td>-48.918269</td>\n",
              "    </tr>\n",
              "    <tr>\n",
              "      <th>25%</th>\n",
              "      <td>-1.160929</td>\n",
              "    </tr>\n",
              "    <tr>\n",
              "      <th>50%</th>\n",
              "      <td>0.033561</td>\n",
              "    </tr>\n",
              "    <tr>\n",
              "      <th>75%</th>\n",
              "      <td>1.202498</td>\n",
              "    </tr>\n",
              "    <tr>\n",
              "      <th>max</th>\n",
              "      <td>14.722931</td>\n",
              "    </tr>\n",
              "  </tbody>\n",
              "</table>\n",
              "</div>"
            ],
            "text/plain": [
              "               PRC\n",
              "count  2514.000000\n",
              "mean      0.028503\n",
              "std       2.380176\n",
              "min     -48.918269\n",
              "25%      -1.160929\n",
              "50%       0.033561\n",
              "75%       1.202498\n",
              "max      14.722931"
            ]
          },
          "metadata": {
            "tags": []
          },
          "execution_count": 19
        }
      ]
    },
    {
      "metadata": {
        "id": "8HU4vBjIp1t8",
        "colab_type": "code",
        "outputId": "8493e6d1-2422-4309-f054-c71ab20893e8",
        "colab": {
          "base_uri": "https://localhost:8080/",
          "height": 297
        }
      },
      "cell_type": "code",
      "source": [
        "dfSBUXreturn.describe()"
      ],
      "execution_count": 101,
      "outputs": [
        {
          "output_type": "execute_result",
          "data": {
            "text/html": [
              "<div>\n",
              "<style scoped>\n",
              "    .dataframe tbody tr th:only-of-type {\n",
              "        vertical-align: middle;\n",
              "    }\n",
              "\n",
              "    .dataframe tbody tr th {\n",
              "        vertical-align: top;\n",
              "    }\n",
              "\n",
              "    .dataframe thead th {\n",
              "        text-align: right;\n",
              "    }\n",
              "</style>\n",
              "<table border=\"1\" class=\"dataframe\">\n",
              "  <thead>\n",
              "    <tr style=\"text-align: right;\">\n",
              "      <th></th>\n",
              "      <th>PRC</th>\n",
              "    </tr>\n",
              "  </thead>\n",
              "  <tbody>\n",
              "    <tr>\n",
              "      <th>count</th>\n",
              "      <td>2514.000000</td>\n",
              "    </tr>\n",
              "    <tr>\n",
              "      <th>mean</th>\n",
              "      <td>-0.012276</td>\n",
              "    </tr>\n",
              "    <tr>\n",
              "      <th>std</th>\n",
              "      <td>3.152075</td>\n",
              "    </tr>\n",
              "    <tr>\n",
              "      <th>min</th>\n",
              "      <td>-49.300127</td>\n",
              "    </tr>\n",
              "    <tr>\n",
              "      <th>25%</th>\n",
              "      <td>-1.251515</td>\n",
              "    </tr>\n",
              "    <tr>\n",
              "      <th>50%</th>\n",
              "      <td>-0.053584</td>\n",
              "    </tr>\n",
              "    <tr>\n",
              "      <th>75%</th>\n",
              "      <td>1.239078</td>\n",
              "    </tr>\n",
              "    <tr>\n",
              "      <th>max</th>\n",
              "      <td>14.635365</td>\n",
              "    </tr>\n",
              "  </tbody>\n",
              "</table>\n",
              "</div>"
            ],
            "text/plain": [
              "               PRC\n",
              "count  2514.000000\n",
              "mean     -0.012276\n",
              "std       3.152075\n",
              "min     -49.300127\n",
              "25%      -1.251515\n",
              "50%      -0.053584\n",
              "75%       1.239078\n",
              "max      14.635365"
            ]
          },
          "metadata": {
            "tags": []
          },
          "execution_count": 101
        }
      ]
    },
    {
      "metadata": {
        "id": "14daQk1uqN1v",
        "colab_type": "code",
        "outputId": "f55790ea-5b85-46f4-e94b-7b7e63544454",
        "colab": {
          "base_uri": "https://localhost:8080/",
          "height": 125
        }
      },
      "cell_type": "code",
      "source": [
        "AXPskew = pd.DataFrame.skew(dfAXPreturn)\n",
        "CATskew = pd.DataFrame.skew(dfCATreturn)\n",
        "SBUXskew = pd.DataFrame.skew(dfSBUXreturn)\n",
        "print (\"AXP Skewness= \", AXPskew)\n",
        "print (\"CAT Skewness= \", CATskew)\n",
        "print(\"SBUX Skewness= \", SBUXskew)"
      ],
      "execution_count": 100,
      "outputs": [
        {
          "output_type": "stream",
          "text": [
            "AXP Skewness=  PRC   -5.211424\n",
            "dtype: float64\n",
            "CAT Skewness=  PRC   -3.445269\n",
            "dtype: float64\n",
            "SBUX Skewness=  PRC   -4.25661\n",
            "dtype: float64\n"
          ],
          "name": "stdout"
        }
      ]
    },
    {
      "metadata": {
        "id": "xL8YQQG8r8IJ",
        "colab_type": "code",
        "outputId": "e2cf70c8-dd7a-4d15-b667-a5a7eff66ec8",
        "colab": {
          "base_uri": "https://localhost:8080/",
          "height": 125
        }
      },
      "cell_type": "code",
      "source": [
        "AXPkurtosis = pd.DataFrame.kurtosis(dfSBUXreturn)\n",
        "CATkurtosis = pd.DataFrame.kurtosis(dfCATreturn)\n",
        "SBUXkurtosis = pd.DataFrame.kurtosis(dfSBUXreturn)\n",
        "print ('AXP Kurtosis= ', AXPkurtosis)\n",
        "print ('CAT Kurtosis= ', CATkurtosis)\n",
        "print('SBUX Kurtosis= ', SBUXkurtosis)"
      ],
      "execution_count": 97,
      "outputs": [
        {
          "output_type": "stream",
          "text": [
            "AXP Kurtosis=  PRC    68.087623\n",
            "dtype: float64\n",
            "CAT Kurtosis=  PRC    73.489394\n",
            "dtype: float64\n",
            "SBUX Kurtosis=  PRC    68.087623\n",
            "dtype: float64\n"
          ],
          "name": "stdout"
        }
      ]
    },
    {
      "metadata": {
        "id": "cWkMAJdisAlL",
        "colab_type": "code",
        "outputId": "d3e02651-3236-433d-c59d-45b5d335cd5f",
        "colab": {
          "base_uri": "https://localhost:8080/",
          "height": 293
        }
      },
      "cell_type": "code",
      "source": [
        "AXP_log_return= np.log(1+ AXPdaily_return)*100\n",
        "CAT_log_return= np.log(1+ CATdaily_return)*100\n",
        "SBUX_log_return= np.log(1+ SBUXdaily_return)*100\n",
        "AXP_log_return.head()"
      ],
      "execution_count": 113,
      "outputs": [
        {
          "output_type": "stream",
          "text": [
            "/usr/local/lib/python3.6/dist-packages/ipykernel_launcher.py:1: RuntimeWarning: invalid value encountered in log\n",
            "  \"\"\"Entry point for launching an IPython kernel.\n",
            "/usr/local/lib/python3.6/dist-packages/ipykernel_launcher.py:2: RuntimeWarning: invalid value encountered in log\n",
            "  \n",
            "/usr/local/lib/python3.6/dist-packages/ipykernel_launcher.py:3: RuntimeWarning: invalid value encountered in log\n",
            "  This is separate from the ipykernel package so we can avoid doing imports until\n"
          ],
          "name": "stderr"
        },
        {
          "output_type": "execute_result",
          "data": {
            "text/plain": [
              "2515           NaN\n",
              "2516           NaN\n",
              "2517    162.538046\n",
              "2518     79.130449\n",
              "2519    139.607947\n",
              "Name: PRC, dtype: float64"
            ]
          },
          "metadata": {
            "tags": []
          },
          "execution_count": 113
        }
      ]
    },
    {
      "metadata": {
        "id": "wRbkYUnI6KYn",
        "colab_type": "code",
        "outputId": "38b808ac-8fc9-4ea3-f5d5-d430dd552ea8",
        "colab": {
          "base_uri": "https://localhost:8080/",
          "height": 179
        }
      },
      "cell_type": "code",
      "source": [
        "AXP_log_return.describe()"
      ],
      "execution_count": 114,
      "outputs": [
        {
          "output_type": "execute_result",
          "data": {
            "text/plain": [
              "count    1844.000000\n",
              "mean       27.563551\n",
              "std       107.338034\n",
              "min      -760.140233\n",
              "25%       -21.255629\n",
              "50%        39.860583\n",
              "75%        96.633879\n",
              "max       294.056654\n",
              "Name: PRC, dtype: float64"
            ]
          },
          "metadata": {
            "tags": []
          },
          "execution_count": 114
        }
      ]
    },
    {
      "metadata": {
        "id": "ARGZPz_U6WFr",
        "colab_type": "code",
        "outputId": "b29893a3-6758-412a-d275-616663e7b580",
        "colab": {
          "base_uri": "https://localhost:8080/",
          "height": 179
        }
      },
      "cell_type": "code",
      "source": [
        "CAT_log_return.describe()"
      ],
      "execution_count": 115,
      "outputs": [
        {
          "output_type": "execute_result",
          "data": {
            "text/plain": [
              "count    1822.000000\n",
              "mean       30.715359\n",
              "std       101.956723\n",
              "min      -677.853205\n",
              "25%       -15.665428\n",
              "50%        47.937788\n",
              "75%        96.268618\n",
              "max       275.512020\n",
              "Name: PRC, dtype: float64"
            ]
          },
          "metadata": {
            "tags": []
          },
          "execution_count": 115
        }
      ]
    },
    {
      "metadata": {
        "id": "ETyVyEgd6f3m",
        "colab_type": "code",
        "outputId": "5df71553-0229-4d95-ef43-1d26bfd3ff0f",
        "colab": {
          "base_uri": "https://localhost:8080/",
          "height": 179
        }
      },
      "cell_type": "code",
      "source": [
        "SBUX_log_return.describe()"
      ],
      "execution_count": 27,
      "outputs": [
        {
          "output_type": "execute_result",
          "data": {
            "text/plain": [
              "count    1760.000000\n",
              "mean       35.375206\n",
              "std       106.470673\n",
              "min      -520.537937\n",
              "25%       -15.654957\n",
              "50%        51.463469\n",
              "75%       107.653668\n",
              "max       274.953531\n",
              "Name: PRC, dtype: float64"
            ]
          },
          "metadata": {
            "tags": []
          },
          "execution_count": 27
        }
      ]
    },
    {
      "metadata": {
        "id": "49B5ntX0vpjX",
        "colab_type": "code",
        "outputId": "7915e99b-82f8-4cd5-dffb-87c3e206b9e5",
        "colab": {
          "base_uri": "https://localhost:8080/",
          "height": 107
        }
      },
      "cell_type": "code",
      "source": [
        "AXP_log_skew = pd.DataFrame.skew(AXP_log_return)\n",
        "CAT_log_skew = pd.DataFrame.skew(CAT_log_return)\n",
        "SBUX_log_skew = pd.DataFrame.skew(SBUX_log_return)\n",
        "lsk = \"The Skew of the Log Returns is: \"\n",
        "print(lsk, AXP_log_skew)\n",
        "print(lsk, CAT_log_skew)\n",
        "print (lsk, SBUX_log_skew)"
      ],
      "execution_count": 28,
      "outputs": [
        {
          "output_type": "stream",
          "text": [
            "The Skew of the Log Returns is:  PRC   -1.537068\n",
            "dtype: float64\n",
            "The Skew of the Log Returns is:  PRC   -1.44291\n",
            "dtype: float64\n",
            "The Skew of the Log Returns is:  -1.050277035755747\n"
          ],
          "name": "stdout"
        }
      ]
    },
    {
      "metadata": {
        "id": "dKX9S9e95Vml",
        "colab_type": "code",
        "outputId": "3e99ff13-12b9-45c6-cdb1-51cf5198ccdc",
        "colab": {
          "base_uri": "https://localhost:8080/",
          "height": 107
        }
      },
      "cell_type": "code",
      "source": [
        "AXP_log_kurtosis = pd.DataFrame.kurtosis(AXP_log_return)\n",
        "CAT_log_kurtosis = pd.DataFrame.kurtosis(CAT_log_return)\n",
        "SBUX_log_kurtosis = pd.DataFrame.kurtosis(SBUX_log_return)\n",
        "lkr = \"The kurtosis of the Log Returns is: \"\n",
        "print(lkr, AXP_log_kurtosis)\n",
        "print(lkr, CAT_log_kurtosis)\n",
        "print(lkr, SBUX_log_kurtosis)"
      ],
      "execution_count": 29,
      "outputs": [
        {
          "output_type": "stream",
          "text": [
            "The kurtosis of the Log Returns is:  PRC    5.6458\n",
            "dtype: float64\n",
            "The kurtosis of the Log Returns is:  PRC    4.112252\n",
            "dtype: float64\n",
            "The kurtosis of the Log Returns is:  2.176263951289201\n"
          ],
          "name": "stdout"
        }
      ]
    },
    {
      "metadata": {
        "id": "lj5vYKI-5-MR",
        "colab_type": "code",
        "colab": {}
      },
      "cell_type": "code",
      "source": [
        "import scipy.stats as stats"
      ],
      "execution_count": 0,
      "outputs": []
    },
    {
      "metadata": {
        "id": "h94FpvkwHTTi",
        "colab_type": "code",
        "outputId": "aa3ecbd8-31ef-44a3-eae7-16b94a9fe446",
        "colab": {
          "base_uri": "https://localhost:8080/",
          "height": 503
        }
      },
      "cell_type": "code",
      "source": [
        "stats.ttest_1samp(AXP_log_return.dropna()[AXP_log_return], data.dropna()[0])"
      ],
      "execution_count": 43,
      "outputs": [
        {
          "output_type": "error",
          "ename": "ValueError",
          "evalue": "ignored",
          "traceback": [
            "\u001b[0;31m---------------------------------------------------------------------------\u001b[0m",
            "\u001b[0;31mValueError\u001b[0m                                Traceback (most recent call last)",
            "\u001b[0;32m<ipython-input-43-54eb0440df91>\u001b[0m in \u001b[0;36m<module>\u001b[0;34m()\u001b[0m\n\u001b[0;32m----> 1\u001b[0;31m \u001b[0mstats\u001b[0m\u001b[0;34m.\u001b[0m\u001b[0mttest_1samp\u001b[0m\u001b[0;34m(\u001b[0m\u001b[0mAXP_log_return\u001b[0m\u001b[0;34m.\u001b[0m\u001b[0mdropna\u001b[0m\u001b[0;34m(\u001b[0m\u001b[0;34m)\u001b[0m\u001b[0;34m[\u001b[0m\u001b[0mAXP_log_return\u001b[0m\u001b[0;34m]\u001b[0m\u001b[0;34m,\u001b[0m \u001b[0mdata\u001b[0m\u001b[0;34m.\u001b[0m\u001b[0mdropna\u001b[0m\u001b[0;34m(\u001b[0m\u001b[0;34m)\u001b[0m\u001b[0;34m[\u001b[0m\u001b[0;36m0\u001b[0m\u001b[0;34m]\u001b[0m\u001b[0;34m)\u001b[0m\u001b[0;34m\u001b[0m\u001b[0;34m\u001b[0m\u001b[0m\n\u001b[0m",
            "\u001b[0;32m/usr/local/lib/python3.6/dist-packages/pandas/core/frame.py\u001b[0m in \u001b[0;36m__getitem__\u001b[0;34m(self, key)\u001b[0m\n\u001b[1;32m   2133\u001b[0m             \u001b[0;32mreturn\u001b[0m \u001b[0mself\u001b[0m\u001b[0;34m.\u001b[0m\u001b[0m_getitem_array\u001b[0m\u001b[0;34m(\u001b[0m\u001b[0mkey\u001b[0m\u001b[0;34m)\u001b[0m\u001b[0;34m\u001b[0m\u001b[0;34m\u001b[0m\u001b[0m\n\u001b[1;32m   2134\u001b[0m         \u001b[0;32melif\u001b[0m \u001b[0misinstance\u001b[0m\u001b[0;34m(\u001b[0m\u001b[0mkey\u001b[0m\u001b[0;34m,\u001b[0m \u001b[0mDataFrame\u001b[0m\u001b[0;34m)\u001b[0m\u001b[0;34m:\u001b[0m\u001b[0;34m\u001b[0m\u001b[0;34m\u001b[0m\u001b[0m\n\u001b[0;32m-> 2135\u001b[0;31m             \u001b[0;32mreturn\u001b[0m \u001b[0mself\u001b[0m\u001b[0;34m.\u001b[0m\u001b[0m_getitem_frame\u001b[0m\u001b[0;34m(\u001b[0m\u001b[0mkey\u001b[0m\u001b[0;34m)\u001b[0m\u001b[0;34m\u001b[0m\u001b[0;34m\u001b[0m\u001b[0m\n\u001b[0m\u001b[1;32m   2136\u001b[0m         \u001b[0;32melif\u001b[0m \u001b[0mis_mi_columns\u001b[0m\u001b[0;34m:\u001b[0m\u001b[0;34m\u001b[0m\u001b[0;34m\u001b[0m\u001b[0m\n\u001b[1;32m   2137\u001b[0m             \u001b[0;32mreturn\u001b[0m \u001b[0mself\u001b[0m\u001b[0;34m.\u001b[0m\u001b[0m_getitem_multilevel\u001b[0m\u001b[0;34m(\u001b[0m\u001b[0mkey\u001b[0m\u001b[0;34m)\u001b[0m\u001b[0;34m\u001b[0m\u001b[0;34m\u001b[0m\u001b[0m\n",
            "\u001b[0;32m/usr/local/lib/python3.6/dist-packages/pandas/core/frame.py\u001b[0m in \u001b[0;36m_getitem_frame\u001b[0;34m(self, key)\u001b[0m\n\u001b[1;32m   2216\u001b[0m     \u001b[0;32mdef\u001b[0m \u001b[0m_getitem_frame\u001b[0m\u001b[0;34m(\u001b[0m\u001b[0mself\u001b[0m\u001b[0;34m,\u001b[0m \u001b[0mkey\u001b[0m\u001b[0;34m)\u001b[0m\u001b[0;34m:\u001b[0m\u001b[0;34m\u001b[0m\u001b[0;34m\u001b[0m\u001b[0m\n\u001b[1;32m   2217\u001b[0m         \u001b[0;32mif\u001b[0m \u001b[0mkey\u001b[0m\u001b[0;34m.\u001b[0m\u001b[0mvalues\u001b[0m\u001b[0;34m.\u001b[0m\u001b[0msize\u001b[0m \u001b[0;32mand\u001b[0m \u001b[0;32mnot\u001b[0m \u001b[0mis_bool_dtype\u001b[0m\u001b[0;34m(\u001b[0m\u001b[0mkey\u001b[0m\u001b[0;34m.\u001b[0m\u001b[0mvalues\u001b[0m\u001b[0;34m)\u001b[0m\u001b[0;34m:\u001b[0m\u001b[0;34m\u001b[0m\u001b[0;34m\u001b[0m\u001b[0m\n\u001b[0;32m-> 2218\u001b[0;31m             \u001b[0;32mraise\u001b[0m \u001b[0mValueError\u001b[0m\u001b[0;34m(\u001b[0m\u001b[0;34m'Must pass DataFrame with boolean values only'\u001b[0m\u001b[0;34m)\u001b[0m\u001b[0;34m\u001b[0m\u001b[0;34m\u001b[0m\u001b[0m\n\u001b[0m\u001b[1;32m   2219\u001b[0m         \u001b[0;32mreturn\u001b[0m \u001b[0mself\u001b[0m\u001b[0;34m.\u001b[0m\u001b[0mwhere\u001b[0m\u001b[0;34m(\u001b[0m\u001b[0mkey\u001b[0m\u001b[0;34m)\u001b[0m\u001b[0;34m\u001b[0m\u001b[0;34m\u001b[0m\u001b[0m\n\u001b[1;32m   2220\u001b[0m \u001b[0;34m\u001b[0m\u001b[0m\n",
            "\u001b[0;31mValueError\u001b[0m: Must pass DataFrame with boolean values only"
          ]
        }
      ]
    },
    {
      "metadata": {
        "id": "FKiYbdeVKTiA",
        "colab_type": "code",
        "outputId": "6fd74f5e-8850-4c97-d8e9-3922d5055f5e",
        "colab": {
          "base_uri": "https://localhost:8080/",
          "height": 71
        }
      },
      "cell_type": "code",
      "source": [
        "import math\n",
        "AXP_l_mean = AXP_log_return.mean()\n",
        "AXP_l_std = AXP_log_return.std()\n",
        "AXP_n = AXP_log_return.count()\n",
        "AXP_n_sqrt = math.sqrt(AXP_n)\n",
        "AXP_t = AXP_l_mean / ( AXP_l_std / AXP_n_sqrt)\n",
        "print(AXP_t)\n",
        "print(\"Reject null hypothesis\")\n",
        "\n"
      ],
      "execution_count": 60,
      "outputs": [
        {
          "output_type": "stream",
          "text": [
            "PRC    11.027117\n",
            "dtype: float64\n",
            "Reject null hypothesis\n"
          ],
          "name": "stdout"
        }
      ]
    },
    {
      "metadata": {
        "id": "1YVxYD_7NMwn",
        "colab_type": "code",
        "colab": {
          "base_uri": "https://localhost:8080/",
          "height": 71
        },
        "outputId": "f9c3458a-ae0a-4796-c636-5b0274ff5d54"
      },
      "cell_type": "code",
      "source": [
        "CAT_l_mean = CAT_log_return.mean()\n",
        "CAT_l_std = CAT_log_return.std()\n",
        "CAT_n = CAT_log_return.count()\n",
        "CAT_n_sqrt = math.sqrt(CAT_n)\n",
        "CAT_t = CAT_l_mean / (CAT_l_std / CAT_n_sqrt)\n",
        "print(CAT_t)\n",
        "print(\"Reject null hypothesis\")"
      ],
      "execution_count": 65,
      "outputs": [
        {
          "output_type": "stream",
          "text": [
            "PRC    12.859199\n",
            "dtype: float64\n",
            "Reject null hypothesis\n"
          ],
          "name": "stdout"
        }
      ]
    },
    {
      "metadata": {
        "id": "G94K6xMpS3JN",
        "colab_type": "code",
        "colab": {
          "base_uri": "https://localhost:8080/",
          "height": 53
        },
        "outputId": "4f37afb1-e47f-4c23-9a6f-df8e27a51214"
      },
      "cell_type": "code",
      "source": [
        "SBUX_l_mean = SBUX_log_return.mean()\n",
        "SBUX_l_std = SBUX_log_return.std()\n",
        "SBUX_n = SBUX_log_return.count()\n",
        "SBUX_n_sqrt = math.sqrt(SBUX_n)\n",
        "SBUX_t = SBUX_l_mean / (SBUX_l_std / SBUX_n_sqrt)\n",
        "print(SBUX_t)\n",
        "print(\"Reject null hypothesis\")"
      ],
      "execution_count": 66,
      "outputs": [
        {
          "output_type": "stream",
          "text": [
            "13.938797551948324\n",
            "Reject null hypothesis\n"
          ],
          "name": "stdout"
        }
      ]
    },
    {
      "metadata": {
        "id": "6qXHIzvt8Os7",
        "colab_type": "code",
        "outputId": "f12e336f-b564-470f-d425-3cc151373280",
        "colab": {
          "base_uri": "https://localhost:8080/",
          "height": 590
        }
      },
      "cell_type": "code",
      "source": [
        "import matplotlib.pyplot as plt\n",
        "plt.hist(AXPdaily_return)"
      ],
      "execution_count": 67,
      "outputs": [
        {
          "output_type": "stream",
          "text": [
            "/usr/local/lib/python3.6/dist-packages/numpy/lib/function_base.py:780: RuntimeWarning: invalid value encountered in greater_equal\n",
            "  keep = (tmp_a >= first_edge)\n",
            "/usr/local/lib/python3.6/dist-packages/numpy/lib/function_base.py:781: RuntimeWarning: invalid value encountered in less_equal\n",
            "  keep &= (tmp_a <= last_edge)\n"
          ],
          "name": "stderr"
        },
        {
          "output_type": "execute_result",
          "data": {
            "text/plain": [
              "(array([1.000e+00, 0.000e+00, 0.000e+00, 0.000e+00, 0.000e+00, 2.000e+00,\n",
              "        2.300e+01, 1.909e+03, 5.730e+02, 6.000e+00]),\n",
              " array([-65.47515257, -57.13498073, -48.79480888, -40.45463704,\n",
              "        -32.11446519, -23.77429335, -15.4341215 ,  -7.09394966,\n",
              "          1.24622219,   9.58639403,  17.92656587]),\n",
              " <a list of 10 Patch objects>)"
            ]
          },
          "metadata": {
            "tags": []
          },
          "execution_count": 67
        },
        {
          "output_type": "display_data",
          "data": {
            "image/png": "[encoded data removed]",
            "text/plain": [
              "<Figure size 576x396 with 1 Axes>"
            ]
          },
          "metadata": {
            "tags": []
          }
        }
      ]
    },
    {
      "metadata": {
        "id": "ctPlDam3-6HC",
        "colab_type": "code",
        "outputId": "9121fce7-703e-4224-863b-a59e811cf144",
        "colab": {
          "base_uri": "https://localhost:8080/",
          "height": 607
        }
      },
      "cell_type": "code",
      "source": [
        "plt.hist(CATdaily_return)"
      ],
      "execution_count": 68,
      "outputs": [
        {
          "output_type": "stream",
          "text": [
            "/usr/local/lib/python3.6/dist-packages/numpy/lib/function_base.py:780: RuntimeWarning: invalid value encountered in greater_equal\n",
            "  keep = (tmp_a >= first_edge)\n",
            "/usr/local/lib/python3.6/dist-packages/numpy/lib/function_base.py:781: RuntimeWarning: invalid value encountered in less_equal\n",
            "  keep &= (tmp_a <= last_edge)\n"
          ],
          "name": "stderr"
        },
        {
          "output_type": "execute_result",
          "data": {
            "text/plain": [
              "(array([1.000e+00, 0.000e+00, 0.000e+00, 0.000e+00, 0.000e+00, 5.000e+00,\n",
              "        5.000e+01, 2.095e+03, 3.580e+02, 5.000e+00]),\n",
              " array([-48.91826923, -42.55414924, -36.19002925, -29.82590926,\n",
              "        -23.46178927, -17.09766928, -10.73354929,  -4.3694293 ,\n",
              "          1.99469069,   8.35881068,  14.72293067]),\n",
              " <a list of 10 Patch objects>)"
            ]
          },
          "metadata": {
            "tags": []
          },
          "execution_count": 68
        },
        {
          "output_type": "display_data",
          "data": {
            "image/png": "[encoded data removed]",
            "text/plain": [
              "<Figure size 576x396 with 1 Axes>"
            ]
          },
          "metadata": {
            "tags": []
          }
        }
      ]
    },
    {
      "metadata": {
        "id": "cqev1ScY_m8Z",
        "colab_type": "code",
        "outputId": "498552b5-2d0c-487c-cefb-9ed2171eb185",
        "colab": {
          "base_uri": "https://localhost:8080/",
          "height": 607
        }
      },
      "cell_type": "code",
      "source": [
        "plt.hist(SBUXdaily_return)"
      ],
      "execution_count": 70,
      "outputs": [
        {
          "output_type": "stream",
          "text": [
            "/usr/local/lib/python3.6/dist-packages/numpy/lib/function_base.py:780: RuntimeWarning: invalid value encountered in greater_equal\n",
            "  keep = (tmp_a >= first_edge)\n",
            "/usr/local/lib/python3.6/dist-packages/numpy/lib/function_base.py:781: RuntimeWarning: invalid value encountered in less_equal\n",
            "  keep &= (tmp_a <= last_edge)\n"
          ],
          "name": "stderr"
        },
        {
          "output_type": "execute_result",
          "data": {
            "text/plain": [
              "(array([3.000e+00, 0.000e+00, 0.000e+00, 1.000e+00, 1.000e+00, 2.000e+00,\n",
              "        8.600e+01, 1.959e+03, 4.400e+02, 2.200e+01]),\n",
              " array([-49.30012725, -42.90657806, -36.51302887, -30.11947968,\n",
              "        -23.7259305 , -17.33238131, -10.93883212,  -4.54528293,\n",
              "          1.84826626,   8.24181545,  14.63536464]),\n",
              " <a list of 10 Patch objects>)"
            ]
          },
          "metadata": {
            "tags": []
          },
          "execution_count": 70
        },
        {
          "output_type": "display_data",
          "data": {
            "image/png": "[encoded data removed]",
            "text/plain": [
              "<Figure size 576x396 with 1 Axes>"
            ]
          },
          "metadata": {
            "tags": []
          }
        }
      ]
    },
    {
      "metadata": {
        "id": "zhMqfD1S_x0-",
        "colab_type": "code",
        "colab": {
          "base_uri": "https://localhost:8080/",
          "height": 549
        },
        "outputId": "3e44c441-7003-405c-c810-12b67c05ab7f"
      },
      "cell_type": "code",
      "source": [
        "plt.hist(AXP_log_return)"
      ],
      "execution_count": 116,
      "outputs": [
        {
          "output_type": "stream",
          "text": [
            "/usr/local/lib/python3.6/dist-packages/numpy/lib/function_base.py:780: RuntimeWarning: invalid value encountered in greater_equal\n",
            "  keep = (tmp_a >= first_edge)\n",
            "/usr/local/lib/python3.6/dist-packages/numpy/lib/function_base.py:781: RuntimeWarning: invalid value encountered in less_equal\n",
            "  keep &= (tmp_a <= last_edge)\n"
          ],
          "name": "stderr"
        },
        {
          "output_type": "execute_result",
          "data": {
            "text/plain": [
              "(array([  2.,   2.,   3.,  12.,  28.,  83., 325., 826., 517.,  46.]),\n",
              " array([-760.14023346, -654.72054474, -549.30085603, -443.88116731,\n",
              "        -338.4614786 , -233.04178988, -127.62210117,  -22.20241245,\n",
              "          83.21727627,  188.63696498,  294.0566537 ]),\n",
              " <a list of 10 Patch objects>)"
            ]
          },
          "metadata": {
            "tags": []
          },
          "execution_count": 116
        },
        {
          "output_type": "display_data",
          "data": {
            "image/png": "[encoded data removed]",
            "text/plain": [
              "<Figure size 576x396 with 1 Axes>"
            ]
          },
          "metadata": {
            "tags": []
          }
        }
      ]
    },
    {
      "metadata": {
        "id": "rpAWRhU3dFC6",
        "colab_type": "code",
        "colab": {
          "base_uri": "https://localhost:8080/",
          "height": 531
        },
        "outputId": "c47b6b34-fc8e-454a-f0e3-30e3b2efd04d"
      },
      "cell_type": "code",
      "source": [
        "plt.hist(CAT_log_return)"
      ],
      "execution_count": 117,
      "outputs": [
        {
          "output_type": "stream",
          "text": [
            "/usr/local/lib/python3.6/dist-packages/numpy/lib/function_base.py:780: RuntimeWarning: invalid value encountered in greater_equal\n",
            "  keep = (tmp_a >= first_edge)\n",
            "/usr/local/lib/python3.6/dist-packages/numpy/lib/function_base.py:781: RuntimeWarning: invalid value encountered in less_equal\n",
            "  keep &= (tmp_a <= last_edge)\n"
          ],
          "name": "stderr"
        },
        {
          "output_type": "execute_result",
          "data": {
            "text/plain": [
              "(array([  1.,   2.,   4.,  15.,  34., 103., 324., 767., 526.,  46.]),\n",
              " array([-677.85320532, -582.51668279, -487.18016027, -391.84363774,\n",
              "        -296.50711522, -201.17059269, -105.83407017,  -10.49754764,\n",
              "          84.83897488,  180.17549741,  275.51201993]),\n",
              " <a list of 10 Patch objects>)"
            ]
          },
          "metadata": {
            "tags": []
          },
          "execution_count": 117
        },
        {
          "output_type": "display_data",
          "data": {
            "image/png": "[encoded data removed]",
            "text/plain": [
              "<Figure size 576x396 with 1 Axes>"
            ]
          },
          "metadata": {
            "tags": []
          }
        }
      ]
    },
    {
      "metadata": {
        "id": "pGJjsKJQbeoQ",
        "colab_type": "code",
        "colab": {
          "base_uri": "https://localhost:8080/",
          "height": 549
        },
        "outputId": "3101a6d6-eaaa-4785-e409-75928852619c"
      },
      "cell_type": "code",
      "source": [
        "plt.hist(SBUX_log_return)"
      ],
      "execution_count": 112,
      "outputs": [
        {
          "output_type": "stream",
          "text": [
            "/usr/local/lib/python3.6/dist-packages/numpy/lib/function_base.py:780: RuntimeWarning: invalid value encountered in greater_equal\n",
            "  keep = (tmp_a >= first_edge)\n",
            "/usr/local/lib/python3.6/dist-packages/numpy/lib/function_base.py:781: RuntimeWarning: invalid value encountered in less_equal\n",
            "  keep &= (tmp_a <= last_edge)\n"
          ],
          "name": "stderr"
        },
        {
          "output_type": "execute_result",
          "data": {
            "text/plain": [
              "(array([  2.,  11.,  10.,  27., 101., 176., 448., 615., 308.,  62.]),\n",
              " array([-520.53793709, -440.98879026, -361.43964342, -281.89049659,\n",
              "        -202.34134976, -122.79220293,  -43.24305609,   36.30609074,\n",
              "         115.85523757,  195.4043844 ,  274.95353124]),\n",
              " <a list of 10 Patch objects>)"
            ]
          },
          "metadata": {
            "tags": []
          },
          "execution_count": 112
        },
        {
          "output_type": "display_data",
          "data": {
            "image/png": "[encoded data removed]",
            "text/plain": [
              "<Figure size 576x396 with 1 Axes>"
            ]
          },
          "metadata": {
            "tags": []
          }
        }
      ]
    },
    {
      "metadata": {
        "id": "cec7vvx8dLXx",
        "colab_type": "code",
        "colab": {
          "base_uri": "https://localhost:8080/",
          "height": 71
        },
        "outputId": "75e8e196-ebf9-4034-d2b0-8289fddcce04"
      },
      "cell_type": "code",
      "source": [
        "AXPts = pd.Series(AXP_log_return)\n",
        "AXP_rho = AXPts.autocorr(lag=2)\n",
        "AXPdenom =(math.sqrt(1+2*(AXP_rho**2)))/AXP_n\n",
        "AXP_t2 = AXP_rho / AXPdenom\n",
        "print(AXP_t2)\n",
        "print('Fail to reject')"
      ],
      "execution_count": 127,
      "outputs": [
        {
          "output_type": "stream",
          "text": [
            "PRC    172.459674\n",
            "dtype: float64\n",
            "Fail to reject\n"
          ],
          "name": "stdout"
        }
      ]
    },
    {
      "metadata": {
        "id": "O8dos8EKedvZ",
        "colab_type": "code",
        "colab": {
          "base_uri": "https://localhost:8080/",
          "height": 71
        },
        "outputId": "ae2d907b-fa6b-435f-8360-caaff939b787"
      },
      "cell_type": "code",
      "source": [
        "CATts = pd.Series(CAT_log_return)\n",
        "CAT_rho = CATts.autocorr(lag = 2)\n",
        "CATdenom = (math.sqrt(1+2*(CAT_rho **2)))/ CAT_n\n",
        "CAT_t2 = CAT_rho / CATdenom\n",
        "print(CAT_t2)\n",
        "print('Fail to reject')"
      ],
      "execution_count": 128,
      "outputs": [
        {
          "output_type": "stream",
          "text": [
            "PRC    17.165781\n",
            "dtype: float64\n",
            "Fail to reject\n"
          ],
          "name": "stdout"
        }
      ]
    },
    {
      "metadata": {
        "id": "jxhGlIngU09a",
        "colab_type": "code",
        "colab": {
          "base_uri": "https://localhost:8080/",
          "height": 53
        },
        "outputId": "d427369c-809b-4104-b628-57223782577e"
      },
      "cell_type": "code",
      "source": [
        "SBUXts= pd.Series(SBUX_log_return)\n",
        "SBUX_rho = SBUXts.autocorr(lag=2)\n",
        "SBUXdenom = (math.sqrt(1+2*(SBUX_rho**2)))/SBUX_n\n",
        "SBUX_t2 = SBUX_rho / SBUXdenom\n",
        "print(SBUX_t2)\n",
        "print('Fail to reject')"
      ],
      "execution_count": 129,
      "outputs": [
        {
          "output_type": "stream",
          "text": [
            "80.11036742882902\n",
            "Fail to reject\n"
          ],
          "name": "stdout"
        }
      ]
    },
    {
      "metadata": {
        "id": "7c3ECTnRXSe_",
        "colab_type": "code",
        "colab": {}
      },
      "cell_type": "code",
      "source": [
        ""
      ],
      "execution_count": 0,
      "outputs": []
    }
  ]
}