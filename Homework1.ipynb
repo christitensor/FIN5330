{
  "nbformat": 4,
  "nbformat_minor": 0,
  "metadata": {
    "colab": {
      "name": "Homework1.ipynb",
      "version": "0.3.2",
      "provenance": [],
      "collapsed_sections": [],
      "include_colab_link": true
    },
    "kernelspec": {
      "name": "python3",
      "display_name": "Python 3"
    }
  },
  "cells": [
    {
      "cell_type": "markdown",
      "metadata": {
        "id": "view-in-github",
        "colab_type": "text"
      },
      "source": [
        "<a href=\"https://colab.research.google.com/github/christitensor/homeworkFIN5330/blob/master/Homework1.ipynb\" target=\"_parent\"><img src=\"https://colab.research.google.com/assets/colab-badge.svg\" alt=\"Open In Colab\"/></a>"
      ]
    },
    {
      "metadata": {
        "id": "01AYpyaavNY0",
        "colab_type": "code",
        "outputId": "5c7d2ada-2207-4c3c-929e-84a214ec3211",
        "colab": {
          "base_uri": "https://localhost:8080/",
          "height": 204
        }
      },
      "cell_type": "code",
      "source": [
        "import numpy as np\n",
        "import pandas as pd\n",
        "\n",
        "rawData = pd.read_csv(\"https://raw.githubusercontent.com/broughtj/Fin5330/master/Assignments/stock-data-hwk1.csv \")\n",
        "\n",
        "rawData.head()\n",
        "\n"
      ],
      "execution_count": 37,
      "outputs": [
        {
          "output_type": "execute_result",
          "data": {
            "text/html": [
              "<div>\n",
              "<style scoped>\n",
              "    .dataframe tbody tr th:only-of-type {\n",
              "        vertical-align: middle;\n",
              "    }\n",
              "\n",
              "    .dataframe tbody tr th {\n",
              "        vertical-align: top;\n",
              "    }\n",
              "\n",
              "    .dataframe thead th {\n",
              "        text-align: right;\n",
              "    }\n",
              "</style>\n",
              "<table border=\"1\" class=\"dataframe\">\n",
              "  <thead>\n",
              "    <tr style=\"text-align: right;\">\n",
              "      <th></th>\n",
              "      <th>PERMNO</th>\n",
              "      <th>date</th>\n",
              "      <th>TICKER</th>\n",
              "      <th>PRC</th>\n",
              "      <th>vwretd</th>\n",
              "      <th>ewretd</th>\n",
              "    </tr>\n",
              "  </thead>\n",
              "  <tbody>\n",
              "    <tr>\n",
              "      <th>0</th>\n",
              "      <td>18542</td>\n",
              "      <td>19990104</td>\n",
              "      <td>CAT</td>\n",
              "      <td>47.3750</td>\n",
              "      <td>-0.000822</td>\n",
              "      <td>0.011409</td>\n",
              "    </tr>\n",
              "    <tr>\n",
              "      <th>1</th>\n",
              "      <td>18542</td>\n",
              "      <td>19990105</td>\n",
              "      <td>CAT</td>\n",
              "      <td>47.2500</td>\n",
              "      <td>0.011879</td>\n",
              "      <td>0.009512</td>\n",
              "    </tr>\n",
              "    <tr>\n",
              "      <th>2</th>\n",
              "      <td>18542</td>\n",
              "      <td>19990106</td>\n",
              "      <td>CAT</td>\n",
              "      <td>48.5000</td>\n",
              "      <td>0.021143</td>\n",
              "      <td>0.014866</td>\n",
              "    </tr>\n",
              "    <tr>\n",
              "      <th>3</th>\n",
              "      <td>18542</td>\n",
              "      <td>19990107</td>\n",
              "      <td>CAT</td>\n",
              "      <td>48.9375</td>\n",
              "      <td>-0.000798</td>\n",
              "      <td>0.003560</td>\n",
              "    </tr>\n",
              "    <tr>\n",
              "      <th>4</th>\n",
              "      <td>18542</td>\n",
              "      <td>19990108</td>\n",
              "      <td>CAT</td>\n",
              "      <td>51.0000</td>\n",
              "      <td>0.004602</td>\n",
              "      <td>0.009410</td>\n",
              "    </tr>\n",
              "  </tbody>\n",
              "</table>\n",
              "</div>"
            ],
            "text/plain": [
              "   PERMNO      date TICKER      PRC    vwretd    ewretd\n",
              "0   18542  19990104    CAT  47.3750 -0.000822  0.011409\n",
              "1   18542  19990105    CAT  47.2500  0.011879  0.009512\n",
              "2   18542  19990106    CAT  48.5000  0.021143  0.014866\n",
              "3   18542  19990107    CAT  48.9375 -0.000798  0.003560\n",
              "4   18542  19990108    CAT  51.0000  0.004602  0.009410"
            ]
          },
          "metadata": {
            "tags": []
          },
          "execution_count": 37
        }
      ]
    },
    {
      "metadata": {
        "id": "Lquw_0Tw0JzP",
        "colab_type": "code",
        "colab": {}
      },
      "cell_type": "code",
      "source": [
        "tickers = ['AXP', 'CAT', 'SBUX']\n",
        "\n",
        "ind = rawData.TICKER == tickers[0]\n",
        "axpData = rawData[ind]\n",
        "\n",
        "ind = rawData.TICKER == tickers[1]\n",
        "catData = rawData[ind]\n",
        "\n",
        "ind = rawData.TICKER == tickers[2]\n",
        "sbuxData = rawData[ind]"
      ],
      "execution_count": 0,
      "outputs": []
    },
    {
      "metadata": {
        "id": "N5NAGWmd0fID",
        "colab_type": "code",
        "colab": {}
      },
      "cell_type": "code",
      "source": [
        "dfSBUX = pd.DataFrame( data=sbuxData )"
      ],
      "execution_count": 0,
      "outputs": []
    },
    {
      "metadata": {
        "id": "jpxvhH310iLr",
        "colab_type": "code",
        "colab": {}
      },
      "cell_type": "code",
      "source": [
        "dfAXP = pd.DataFrame( data=axpData)\n",
        "dfCAT = pd.DataFrame( data=catData)"
      ],
      "execution_count": 0,
      "outputs": []
    },
    {
      "metadata": {
        "id": "FZXh-QLEzZNR",
        "colab_type": "code",
        "colab": {}
      },
      "cell_type": "code",
      "source": [
        "AXPdaily_return = dfAXP.PRC.pct_change(1)\n",
        "CATdaily_return = dfCAT.PRC.pct_change(1)\n",
        "SBUXdaily_return = dfSBUX.PRC.pct_change(1)"
      ],
      "execution_count": 0,
      "outputs": []
    },
    {
      "metadata": {
        "id": "Ws-S_dBr1ekc",
        "colab_type": "code",
        "colab": {}
      },
      "cell_type": "code",
      "source": [
        "AXPdaily_returnper = (AXPdaily_return * 100).astype(str) + '%'\n",
        "CATdaily_returnper = (CATdaily_return * 100).astype(str) + '%'\n",
        "SBUXdaily_returnper = (SBUXdaily_return * 100).astype(str)+ '%'"
      ],
      "execution_count": 0,
      "outputs": []
    },
    {
      "metadata": {
        "id": "-xdJErBC_Yu0",
        "colab_type": "code",
        "outputId": "ff32ec61-9df3-42bd-99fe-eb6164bf223e",
        "colab": {
          "base_uri": "https://localhost:8080/",
          "height": 125
        }
      },
      "cell_type": "code",
      "source": [
        "AXPdaily_returnper.head()"
      ],
      "execution_count": 45,
      "outputs": [
        {
          "output_type": "execute_result",
          "data": {
            "text/plain": [
              "2515                   nan%\n",
              "2516    -1.908866995073888%\n",
              "2517     4.080351537978655%\n",
              "2518    1.2062726176115701%\n",
              "2519    3.0393325387365833%\n",
              "Name: PRC, dtype: object"
            ]
          },
          "metadata": {
            "tags": []
          },
          "execution_count": 45
        }
      ]
    },
    {
      "metadata": {
        "id": "zDyzPnGE_bR0",
        "colab_type": "code",
        "colab": {}
      },
      "cell_type": "code",
      "source": [
        "dfAXPreturn = pd.DataFrame(AXPdaily_return)\n",
        "dfCATreturn = pd.DataFrame(CATdaily_return)\n",
        "dfSBUXreturn = pd.DataFrame(SBUXdaily_return)"
      ],
      "execution_count": 0,
      "outputs": []
    },
    {
      "metadata": {
        "id": "DOqXcYwGm2qR",
        "colab_type": "code",
        "colab": {
          "base_uri": "https://localhost:8080/",
          "height": 297
        },
        "outputId": "c88ca78a-a468-4b79-9e9f-798989809f51"
      },
      "cell_type": "code",
      "source": [
        "dfAXPreturn.describe()"
      ],
      "execution_count": 48,
      "outputs": [
        {
          "output_type": "execute_result",
          "data": {
            "text/html": [
              "<div>\n",
              "<style scoped>\n",
              "    .dataframe tbody tr th:only-of-type {\n",
              "        vertical-align: middle;\n",
              "    }\n",
              "\n",
              "    .dataframe tbody tr th {\n",
              "        vertical-align: top;\n",
              "    }\n",
              "\n",
              "    .dataframe thead th {\n",
              "        text-align: right;\n",
              "    }\n",
              "</style>\n",
              "<table border=\"1\" class=\"dataframe\">\n",
              "  <thead>\n",
              "    <tr style=\"text-align: right;\">\n",
              "      <th></th>\n",
              "      <th>PRC</th>\n",
              "    </tr>\n",
              "  </thead>\n",
              "  <tbody>\n",
              "    <tr>\n",
              "      <th>count</th>\n",
              "      <td>2514.000000</td>\n",
              "    </tr>\n",
              "    <tr>\n",
              "      <th>mean</th>\n",
              "      <td>-0.000211</td>\n",
              "    </tr>\n",
              "    <tr>\n",
              "      <th>std</th>\n",
              "      <td>0.027824</td>\n",
              "    </tr>\n",
              "    <tr>\n",
              "      <th>min</th>\n",
              "      <td>-0.654752</td>\n",
              "    </tr>\n",
              "    <tr>\n",
              "      <th>25%</th>\n",
              "      <td>-0.011193</td>\n",
              "    </tr>\n",
              "    <tr>\n",
              "      <th>50%</th>\n",
              "      <td>-0.000220</td>\n",
              "    </tr>\n",
              "    <tr>\n",
              "      <th>75%</th>\n",
              "      <td>0.010873</td>\n",
              "    </tr>\n",
              "    <tr>\n",
              "      <th>max</th>\n",
              "      <td>0.179266</td>\n",
              "    </tr>\n",
              "  </tbody>\n",
              "</table>\n",
              "</div>"
            ],
            "text/plain": [
              "               PRC\n",
              "count  2514.000000\n",
              "mean     -0.000211\n",
              "std       0.027824\n",
              "min      -0.654752\n",
              "25%      -0.011193\n",
              "50%      -0.000220\n",
              "75%       0.010873\n",
              "max       0.179266"
            ]
          },
          "metadata": {
            "tags": []
          },
          "execution_count": 48
        }
      ]
    },
    {
      "metadata": {
        "id": "vRCOk_eNn2W9",
        "colab_type": "code",
        "colab": {
          "base_uri": "https://localhost:8080/",
          "height": 297
        },
        "outputId": "241e4940-4f14-4e77-ad44-16e6e02e5cf1"
      },
      "cell_type": "code",
      "source": [
        "dfCATreturn.describe()\n"
      ],
      "execution_count": 52,
      "outputs": [
        {
          "output_type": "execute_result",
          "data": {
            "text/html": [
              "<div>\n",
              "<style scoped>\n",
              "    .dataframe tbody tr th:only-of-type {\n",
              "        vertical-align: middle;\n",
              "    }\n",
              "\n",
              "    .dataframe tbody tr th {\n",
              "        vertical-align: top;\n",
              "    }\n",
              "\n",
              "    .dataframe thead th {\n",
              "        text-align: right;\n",
              "    }\n",
              "</style>\n",
              "<table border=\"1\" class=\"dataframe\">\n",
              "  <thead>\n",
              "    <tr style=\"text-align: right;\">\n",
              "      <th></th>\n",
              "      <th>PRC</th>\n",
              "    </tr>\n",
              "  </thead>\n",
              "  <tbody>\n",
              "    <tr>\n",
              "      <th>count</th>\n",
              "      <td>2514.000000</td>\n",
              "    </tr>\n",
              "    <tr>\n",
              "      <th>mean</th>\n",
              "      <td>0.000285</td>\n",
              "    </tr>\n",
              "    <tr>\n",
              "      <th>std</th>\n",
              "      <td>0.023802</td>\n",
              "    </tr>\n",
              "    <tr>\n",
              "      <th>min</th>\n",
              "      <td>-0.489183</td>\n",
              "    </tr>\n",
              "    <tr>\n",
              "      <th>25%</th>\n",
              "      <td>-0.011609</td>\n",
              "    </tr>\n",
              "    <tr>\n",
              "      <th>50%</th>\n",
              "      <td>0.000336</td>\n",
              "    </tr>\n",
              "    <tr>\n",
              "      <th>75%</th>\n",
              "      <td>0.012025</td>\n",
              "    </tr>\n",
              "    <tr>\n",
              "      <th>max</th>\n",
              "      <td>0.147229</td>\n",
              "    </tr>\n",
              "  </tbody>\n",
              "</table>\n",
              "</div>"
            ],
            "text/plain": [
              "               PRC\n",
              "count  2514.000000\n",
              "mean      0.000285\n",
              "std       0.023802\n",
              "min      -0.489183\n",
              "25%      -0.011609\n",
              "50%       0.000336\n",
              "75%       0.012025\n",
              "max       0.147229"
            ]
          },
          "metadata": {
            "tags": []
          },
          "execution_count": 52
        }
      ]
    },
    {
      "metadata": {
        "id": "8HU4vBjIp1t8",
        "colab_type": "code",
        "colab": {
          "base_uri": "https://localhost:8080/",
          "height": 297
        },
        "outputId": "f9c07dfd-0ae7-4801-8afc-67975e0700f2"
      },
      "cell_type": "code",
      "source": [
        "dfSBUXreturn.describe()"
      ],
      "execution_count": 53,
      "outputs": [
        {
          "output_type": "execute_result",
          "data": {
            "text/html": [
              "<div>\n",
              "<style scoped>\n",
              "    .dataframe tbody tr th:only-of-type {\n",
              "        vertical-align: middle;\n",
              "    }\n",
              "\n",
              "    .dataframe tbody tr th {\n",
              "        vertical-align: top;\n",
              "    }\n",
              "\n",
              "    .dataframe thead th {\n",
              "        text-align: right;\n",
              "    }\n",
              "</style>\n",
              "<table border=\"1\" class=\"dataframe\">\n",
              "  <thead>\n",
              "    <tr style=\"text-align: right;\">\n",
              "      <th></th>\n",
              "      <th>PRC</th>\n",
              "    </tr>\n",
              "  </thead>\n",
              "  <tbody>\n",
              "    <tr>\n",
              "      <th>count</th>\n",
              "      <td>2514.000000</td>\n",
              "    </tr>\n",
              "    <tr>\n",
              "      <th>mean</th>\n",
              "      <td>-0.000123</td>\n",
              "    </tr>\n",
              "    <tr>\n",
              "      <th>std</th>\n",
              "      <td>0.031521</td>\n",
              "    </tr>\n",
              "    <tr>\n",
              "      <th>min</th>\n",
              "      <td>-0.493001</td>\n",
              "    </tr>\n",
              "    <tr>\n",
              "      <th>25%</th>\n",
              "      <td>-0.012515</td>\n",
              "    </tr>\n",
              "    <tr>\n",
              "      <th>50%</th>\n",
              "      <td>-0.000536</td>\n",
              "    </tr>\n",
              "    <tr>\n",
              "      <th>75%</th>\n",
              "      <td>0.012391</td>\n",
              "    </tr>\n",
              "    <tr>\n",
              "      <th>max</th>\n",
              "      <td>0.146354</td>\n",
              "    </tr>\n",
              "  </tbody>\n",
              "</table>\n",
              "</div>"
            ],
            "text/plain": [
              "               PRC\n",
              "count  2514.000000\n",
              "mean     -0.000123\n",
              "std       0.031521\n",
              "min      -0.493001\n",
              "25%      -0.012515\n",
              "50%      -0.000536\n",
              "75%       0.012391\n",
              "max       0.146354"
            ]
          },
          "metadata": {
            "tags": []
          },
          "execution_count": 53
        }
      ]
    },
    {
      "metadata": {
        "id": "14daQk1uqN1v",
        "colab_type": "code",
        "colab": {}
      },
      "cell_type": "code",
      "source": [
        ""
      ],
      "execution_count": 0,
      "outputs": []
    }
  ]
}