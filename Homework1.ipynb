{
  "nbformat": 4,
  "nbformat_minor": 0,
  "metadata": {
    "colab": {
      "name": "Homework1.ipynb",
      "version": "0.3.2",
      "provenance": [],
      "collapsed_sections": [],
      "include_colab_link": true
    },
    "kernelspec": {
      "name": "python3",
      "display_name": "Python 3"
    }
  },
  "cells": [
    {
      "cell_type": "markdown",
      "metadata": {
        "id": "view-in-github",
        "colab_type": "text"
      },
      "source": [
        "<a href=\"https://colab.research.google.com/github/christitensor/homeworkFIN5330/blob/master/Homework1.ipynb\" target=\"_parent\"><img src=\"https://colab.research.google.com/assets/colab-badge.svg\" alt=\"Open In Colab\"/></a>"
      ]
    },
    {
      "metadata": {
        "id": "01AYpyaavNY0",
        "colab_type": "code",
        "outputId": "3ee68b43-57fc-4db0-fb51-91d44cded5ec",
        "colab": {
          "base_uri": "https://localhost:8080/",
          "height": 204
        }
      },
      "cell_type": "code",
      "source": [
        "import numpy as np\n",
        "import pandas as pd\n",
        "\n",
        "rawData = pd.read_csv(\"https://raw.githubusercontent.com/broughtj/Fin5330/master/Assignments/stock-data-hwk1.csv \")\n",
        "\n",
        "rawData.head()\n",
        "\n"
      ],
      "execution_count": 8,
      "outputs": [
        {
          "output_type": "execute_result",
          "data": {
            "text/html": [
              "<div>\n",
              "<style scoped>\n",
              "    .dataframe tbody tr th:only-of-type {\n",
              "        vertical-align: middle;\n",
              "    }\n",
              "\n",
              "    .dataframe tbody tr th {\n",
              "        vertical-align: top;\n",
              "    }\n",
              "\n",
              "    .dataframe thead th {\n",
              "        text-align: right;\n",
              "    }\n",
              "</style>\n",
              "<table border=\"1\" class=\"dataframe\">\n",
              "  <thead>\n",
              "    <tr style=\"text-align: right;\">\n",
              "      <th></th>\n",
              "      <th>PERMNO</th>\n",
              "      <th>date</th>\n",
              "      <th>TICKER</th>\n",
              "      <th>PRC</th>\n",
              "      <th>vwretd</th>\n",
              "      <th>ewretd</th>\n",
              "    </tr>\n",
              "  </thead>\n",
              "  <tbody>\n",
              "    <tr>\n",
              "      <th>0</th>\n",
              "      <td>18542</td>\n",
              "      <td>19990104</td>\n",
              "      <td>CAT</td>\n",
              "      <td>47.3750</td>\n",
              "      <td>-0.000822</td>\n",
              "      <td>0.011409</td>\n",
              "    </tr>\n",
              "    <tr>\n",
              "      <th>1</th>\n",
              "      <td>18542</td>\n",
              "      <td>19990105</td>\n",
              "      <td>CAT</td>\n",
              "      <td>47.2500</td>\n",
              "      <td>0.011879</td>\n",
              "      <td>0.009512</td>\n",
              "    </tr>\n",
              "    <tr>\n",
              "      <th>2</th>\n",
              "      <td>18542</td>\n",
              "      <td>19990106</td>\n",
              "      <td>CAT</td>\n",
              "      <td>48.5000</td>\n",
              "      <td>0.021143</td>\n",
              "      <td>0.014866</td>\n",
              "    </tr>\n",
              "    <tr>\n",
              "      <th>3</th>\n",
              "      <td>18542</td>\n",
              "      <td>19990107</td>\n",
              "      <td>CAT</td>\n",
              "      <td>48.9375</td>\n",
              "      <td>-0.000798</td>\n",
              "      <td>0.003560</td>\n",
              "    </tr>\n",
              "    <tr>\n",
              "      <th>4</th>\n",
              "      <td>18542</td>\n",
              "      <td>19990108</td>\n",
              "      <td>CAT</td>\n",
              "      <td>51.0000</td>\n",
              "      <td>0.004602</td>\n",
              "      <td>0.009410</td>\n",
              "    </tr>\n",
              "  </tbody>\n",
              "</table>\n",
              "</div>"
            ],
            "text/plain": [
              "   PERMNO      date TICKER      PRC    vwretd    ewretd\n",
              "0   18542  19990104    CAT  47.3750 -0.000822  0.011409\n",
              "1   18542  19990105    CAT  47.2500  0.011879  0.009512\n",
              "2   18542  19990106    CAT  48.5000  0.021143  0.014866\n",
              "3   18542  19990107    CAT  48.9375 -0.000798  0.003560\n",
              "4   18542  19990108    CAT  51.0000  0.004602  0.009410"
            ]
          },
          "metadata": {
            "tags": []
          },
          "execution_count": 8
        }
      ]
    },
    {
      "metadata": {
        "id": "Lquw_0Tw0JzP",
        "colab_type": "code",
        "colab": {}
      },
      "cell_type": "code",
      "source": [
        "tickers = ['AXP', 'CAT', 'SBUX']\n",
        "\n",
        "ind = rawData.TICKER == tickers[0]\n",
        "axpData = rawData[ind]\n",
        "\n",
        "ind = rawData.TICKER == tickers[1]\n",
        "catData = rawData[ind]\n",
        "\n",
        "ind = rawData.TICKER == tickers[2]\n",
        "sbuxdata = rawData[ind]"
      ],
      "execution_count": 0,
      "outputs": []
    },
    {
      "metadata": {
        "id": "N5NAGWmd0fID",
        "colab_type": "code",
        "colab": {}
      },
      "cell_type": "code",
      "source": [
        "dfSBUX = pd.DataFrame( data=sbuxdata )"
      ],
      "execution_count": 0,
      "outputs": []
    },
    {
      "metadata": {
        "id": "jpxvhH310iLr",
        "colab_type": "code",
        "colab": {}
      },
      "cell_type": "code",
      "source": [
        ""
      ],
      "execution_count": 0,
      "outputs": []
    }
  ]
}