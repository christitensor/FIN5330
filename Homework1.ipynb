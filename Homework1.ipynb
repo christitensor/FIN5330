{
  "nbformat": 4,
  "nbformat_minor": 0,
  "metadata": {
    "colab": {
      "name": "Homework1.ipynb",
      "version": "0.3.2",
      "provenance": [],
      "collapsed_sections": [],
      "include_colab_link": true
    },
    "kernelspec": {
      "name": "python3",
      "display_name": "Python 3"
    }
  },
  "cells": [
    {
      "cell_type": "markdown",
      "metadata": {
        "id": "view-in-github",
        "colab_type": "text"
      },
      "source": [
        "<a href=\"https://colab.research.google.com/github/christitensor/homeworkFIN5330/blob/master/Homework1.ipynb\" target=\"_parent\"><img src=\"https://colab.research.google.com/assets/colab-badge.svg\" alt=\"Open In Colab\"/></a>"
      ]
    },
    {
      "metadata": {
        "id": "01AYpyaavNY0",
        "colab_type": "code",
        "outputId": "bf0f4edc-dced-4598-ccab-6e1d56794ce0",
        "colab": {
          "base_uri": "https://localhost:8080/",
          "height": 204
        }
      },
      "cell_type": "code",
      "source": [
        "import numpy as np\n",
        "import pandas as pd\n",
        "\n",
        "rawData = pd.read_csv(\"https://raw.githubusercontent.com/broughtj/Fin5330/master/Assignments/stock-data-hwk1.csv \")\n",
        "\n",
        "rawData.head()\n",
        "\n"
      ],
      "execution_count": 0,
      "outputs": [
        {
          "output_type": "execute_result",
          "data": {
            "text/html": [
              "<div>\n",
              "<style scoped>\n",
              "    .dataframe tbody tr th:only-of-type {\n",
              "        vertical-align: middle;\n",
              "    }\n",
              "\n",
              "    .dataframe tbody tr th {\n",
              "        vertical-align: top;\n",
              "    }\n",
              "\n",
              "    .dataframe thead th {\n",
              "        text-align: right;\n",
              "    }\n",
              "</style>\n",
              "<table border=\"1\" class=\"dataframe\">\n",
              "  <thead>\n",
              "    <tr style=\"text-align: right;\">\n",
              "      <th></th>\n",
              "      <th>PERMNO</th>\n",
              "      <th>date</th>\n",
              "      <th>TICKER</th>\n",
              "      <th>PRC</th>\n",
              "      <th>vwretd</th>\n",
              "      <th>ewretd</th>\n",
              "    </tr>\n",
              "  </thead>\n",
              "  <tbody>\n",
              "    <tr>\n",
              "      <th>0</th>\n",
              "      <td>18542</td>\n",
              "      <td>19990104</td>\n",
              "      <td>CAT</td>\n",
              "      <td>47.3750</td>\n",
              "      <td>-0.000822</td>\n",
              "      <td>0.011409</td>\n",
              "    </tr>\n",
              "    <tr>\n",
              "      <th>1</th>\n",
              "      <td>18542</td>\n",
              "      <td>19990105</td>\n",
              "      <td>CAT</td>\n",
              "      <td>47.2500</td>\n",
              "      <td>0.011879</td>\n",
              "      <td>0.009512</td>\n",
              "    </tr>\n",
              "    <tr>\n",
              "      <th>2</th>\n",
              "      <td>18542</td>\n",
              "      <td>19990106</td>\n",
              "      <td>CAT</td>\n",
              "      <td>48.5000</td>\n",
              "      <td>0.021143</td>\n",
              "      <td>0.014866</td>\n",
              "    </tr>\n",
              "    <tr>\n",
              "      <th>3</th>\n",
              "      <td>18542</td>\n",
              "      <td>19990107</td>\n",
              "      <td>CAT</td>\n",
              "      <td>48.9375</td>\n",
              "      <td>-0.000798</td>\n",
              "      <td>0.003560</td>\n",
              "    </tr>\n",
              "    <tr>\n",
              "      <th>4</th>\n",
              "      <td>18542</td>\n",
              "      <td>19990108</td>\n",
              "      <td>CAT</td>\n",
              "      <td>51.0000</td>\n",
              "      <td>0.004602</td>\n",
              "      <td>0.009410</td>\n",
              "    </tr>\n",
              "  </tbody>\n",
              "</table>\n",
              "</div>"
            ],
            "text/plain": [
              "   PERMNO      date TICKER      PRC    vwretd    ewretd\n",
              "0   18542  19990104    CAT  47.3750 -0.000822  0.011409\n",
              "1   18542  19990105    CAT  47.2500  0.011879  0.009512\n",
              "2   18542  19990106    CAT  48.5000  0.021143  0.014866\n",
              "3   18542  19990107    CAT  48.9375 -0.000798  0.003560\n",
              "4   18542  19990108    CAT  51.0000  0.004602  0.009410"
            ]
          },
          "metadata": {
            "tags": []
          },
          "execution_count": 1
        }
      ]
    },
    {
      "metadata": {
        "id": "Lquw_0Tw0JzP",
        "colab_type": "code",
        "colab": {}
      },
      "cell_type": "code",
      "source": [
        "tickers = ['AXP', 'CAT', 'SBUX']\n",
        "\n",
        "ind = rawData.TICKER == tickers[0]\n",
        "axpData = rawData[ind]\n",
        "\n",
        "ind = rawData.TICKER == tickers[1]\n",
        "catData = rawData[ind]\n",
        "\n",
        "ind = rawData.TICKER == tickers[2]\n",
        "sbuxData = rawData[ind]"
      ],
      "execution_count": 0,
      "outputs": []
    },
    {
      "metadata": {
        "id": "N5NAGWmd0fID",
        "colab_type": "code",
        "colab": {}
      },
      "cell_type": "code",
      "source": [
        "dfSBUX = pd.DataFrame( data=sbuxData )"
      ],
      "execution_count": 0,
      "outputs": []
    },
    {
      "metadata": {
        "id": "jpxvhH310iLr",
        "colab_type": "code",
        "colab": {}
      },
      "cell_type": "code",
      "source": [
        "dfAXP = pd.DataFrame( data=axpData)\n",
        "dfCAT = pd.DataFrame( data=catData)"
      ],
      "execution_count": 0,
      "outputs": []
    },
    {
      "metadata": {
        "id": "FZXh-QLEzZNR",
        "colab_type": "code",
        "colab": {}
      },
      "cell_type": "code",
      "source": [
        "AXPdaily_return = dfAXP.PRC.pct_change(1)\n",
        "CATdaily_return = dfCAT.PRC.pct_change(1)\n",
        "SBUXdaily_return = dfSBUX.PRC.pct_change(1)"
      ],
      "execution_count": 0,
      "outputs": []
    },
    {
      "metadata": {
        "id": "yU4_tEch1RjE",
        "colab_type": "code",
        "outputId": "ff3ac954-699b-45c2-92f0-e58cb676433b",
        "colab": {
          "base_uri": "https://localhost:8080/",
          "height": 135
        }
      },
      "cell_type": "code",
      "source": [
        "print \"{0.0%}\".(daily_return)"
      ],
      "execution_count": 0,
      "outputs": [
        {
          "output_type": "error",
          "ename": "SyntaxError",
          "evalue": "ignored",
          "traceback": [
            "\u001b[0;36m  File \u001b[0;32m\"<ipython-input-17-49004c5432e5>\"\u001b[0;36m, line \u001b[0;32m1\u001b[0m\n\u001b[0;31m    print \"{0.0%}\".(daily_return)\u001b[0m\n\u001b[0m                 ^\u001b[0m\n\u001b[0;31mSyntaxError\u001b[0m\u001b[0;31m:\u001b[0m invalid syntax\n"
          ]
        }
      ]
    },
    {
      "metadata": {
        "id": "Ws-S_dBr1ekc",
        "colab_type": "code",
        "colab": {}
      },
      "cell_type": "code",
      "source": [
        "AXPdaily_return = (AXPdaily_return * 100).astype(str) + '%'\n",
        "CATdaily_return = (CATdaily_return * 100).astype(str) + '%'\n",
        "SBUXdaily_return = (SBUXdaily_return * 100).astype(str)+ '%'"
      ],
      "execution_count": 0,
      "outputs": []
    },
    {
      "metadata": {
        "id": "-xdJErBC_Yu0",
        "colab_type": "code",
        "outputId": "fc5dc33e-d4d2-407b-9a5b-5ab50713d00f",
        "colab": {
          "base_uri": "https://localhost:8080/",
          "height": 1133
        }
      },
      "cell_type": "code",
      "source": [
        "print(AXPdaily_return)"
      ],
      "execution_count": 0,
      "outputs": [
        {
          "output_type": "stream",
          "text": [
            "2515                     nan%\n",
            "2516      -1.908866995073888%\n",
            "2517       4.080351537978655%\n",
            "2518      1.2062726176115701%\n",
            "2519      3.0393325387365833%\n",
            "2520     -1.6772700983227251%\n",
            "2521     -3.6470588235294144%\n",
            "2522     -3.6019536019536003%\n",
            "2523     -2.7232425585813846%\n",
            "2524       8.723958333333325%\n",
            "2525     -3.7125748502993994%\n",
            "2526      1.4925373134328401%\n",
            "2527      0.4901960784313708%\n",
            "2528     -3.9024390243902474%\n",
            "2529      3.0456852791878264%\n",
            "2530     0.24630541871921707%\n",
            "2531     -2.2727272727272707%\n",
            "2532      1.0056568196103122%\n",
            "2533       2.426882389545737%\n",
            "2534     -2.0656136087484844%\n",
            "2535     -1.0545905707196046%\n",
            "2536      0.8150470219435713%\n",
            "2537    -0.24875621890547706%\n",
            "2538     -2.1197007481296715%\n",
            "2539     -1.0828025477707004%\n",
            "2540      -1.159047005795233%\n",
            "2541      0.8469055374592749%\n",
            "2542       4.392764857881137%\n",
            "2543     -1.0519801980197974%\n",
            "2544       2.251407129455907%\n",
            "                ...          \n",
            "5000     0.05162622612286949%\n",
            "5001      -3.302373581011353%\n",
            "5002       -8.05763073639273%\n",
            "5003       8.473592571096923%\n",
            "5004       13.32263242375602%\n",
            "5005      0.8970727101038856%\n",
            "5006       4.351895180159104%\n",
            "5007      4.5291479820627645%\n",
            "5008      -15.74431574431574%\n",
            "5009       5.702647657841142%\n",
            "5010       5.346820809248554%\n",
            "5011      -4.709647919524462%\n",
            "5012       4.510556621881001%\n",
            "5013      12.213039485766753%\n",
            "5014      -4.705400981996732%\n",
            "5015     -7.4280807213396365%\n",
            "5016      -6.632653061224492%\n",
            "5017      1.0432190760059745%\n",
            "5018      -4.916420845624381%\n",
            "5019      3.7228541882109667%\n",
            "5020     -1.2462612163509523%\n",
            "5021       -4.59363957597173%\n",
            "5022       2.804232804232809%\n",
            "5023      -5.198147195059177%\n",
            "5024      -2.497285559174811%\n",
            "5025    0.055679287305121505%\n",
            "5026    -0.33388981636058856%\n",
            "5027     -1.1725293132328396%\n",
            "5028      1.6949152542372836%\n",
            "5029       3.055555555555567%\n",
            "Name: PRC, Length: 2515, dtype: object\n"
          ],
          "name": "stdout"
        }
      ]
    },
    {
      "metadata": {
        "id": "zDyzPnGE_bR0",
        "colab_type": "code",
        "colab": {}
      },
      "cell_type": "code",
      "source": [
        ""
      ],
      "execution_count": 0,
      "outputs": []
    }
  ]
}