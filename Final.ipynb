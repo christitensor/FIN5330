{
  "nbformat": 4,
  "nbformat_minor": 0,
  "metadata": {
    "colab": {
      "name": "Final.ipynb",
      "version": "0.3.2",
      "provenance": [],
      "collapsed_sections": [],
      "include_colab_link": true
    },
    "language_info": {
      "codemirror_mode": {
        "name": "ipython",
        "version": 3
      },
      "file_extension": ".py",
      "mimetype": "text/x-python",
      "name": "python",
      "nbconvert_exporter": "python",
      "pygments_lexer": "ipython3",
      "version": "3.7.1"
    },
    "kernelspec": {
      "name": "python3",
      "display_name": "Python 3"
    },
    "accelerator": "GPU"
  },
  "cells": [
    {
      "cell_type": "markdown",
      "metadata": {
        "id": "view-in-github",
        "colab_type": "text"
      },
      "source": [
        "<a href=\"https://colab.research.google.com/github/christitensor/FIN5330/blob/master/Final.ipynb\" target=\"_parent\"><img src=\"https://colab.research.google.com/assets/colab-badge.svg\" alt=\"Open In Colab\"/></a>"
      ]
    },
    {
      "metadata": {
        "id": "_Kgh7tHKNE6V",
        "colab_type": "text"
      },
      "cell_type": "markdown",
      "source": [
        "# __Finance 6470: Final Exam__\n",
        "\n",
        "<br>\n",
        "\n",
        "Finance 6470: Derivatives Markets <br>\n",
        "Tyler J. Brough <br>\n",
        "Last Updated: April 11, 2019 <br>\n",
        "<br>\n",
        "<br>"
      ]
    },
    {
      "metadata": {
        "id": "DidmgV5ANE6X",
        "colab_type": "text"
      },
      "cell_type": "markdown",
      "source": [
        "## Numerical Workout Problems"
      ]
    },
    {
      "metadata": {
        "id": "MnmmPeBfNE6Z",
        "colab_type": "text"
      },
      "cell_type": "markdown",
      "source": [
        "<br>\n",
        "\n",
        "\n",
        "**1.** Let $S = \\$100$, $K = \\$95$, $r = 8\\%$ (continuously compounded), $\\sigma = 30\\%$, $\\delta = 0$, $T = 1$ year, and $n = 3$ (binomial periods).\n",
        "  \n",
        "* What is the price for an American call option?\n",
        "* What is the price for a European call option? What do you conclude about early exercise for the American call option?\n",
        "* What is the price for a European put option? Is put-call parity satisfied?\n",
        "* What is the price for an America put option?\n",
        "\n",
        "<br>"
      ]
    },
    {
      "metadata": {
        "id": "opDwnMmEwH96",
        "colab_type": "code",
        "colab": {}
      },
      "cell_type": "code",
      "source": [
        "spot = 100\n",
        "strike = 95\n",
        "rate = .08\n",
        "volatility = .3\n",
        "dividend = 0\n",
        "expiry = 1\n",
        "steps = 3"
      ],
      "execution_count": 0,
      "outputs": []
    },
    {
      "metadata": {
        "id": "mxVvHrtEK-u9",
        "colab_type": "code",
        "outputId": "b90b10e9-76de-4241-f609-494cd5725871",
        "colab": {
          "base_uri": "https://localhost:8080/",
          "height": 267
        }
      },
      "cell_type": "code",
      "source": [
        "!pip install git+https://github.com/broughtj/probo"
      ],
      "execution_count": 0,
      "outputs": [
        {
          "output_type": "stream",
          "text": [
            "Collecting git+https://github.com/broughtj/probo\n",
            "  Cloning https://github.com/broughtj/probo to /tmp/pip-req-build-1fb68yqb\n",
            "  Running command git clone -q https://github.com/broughtj/probo /tmp/pip-req-build-1fb68yqb\n",
            "Building wheels for collected packages: probo\n",
            "  Building wheel for probo (setup.py) ... \u001b[?25l\u001b[?25hdone\n",
            "  Stored in directory: /tmp/pip-ephem-wheel-cache-nb0r6d7d/wheels/11/00/86/6889e33657baa255d04ac44e5bd56883d7c92afd2aa1588a1b\n",
            "Successfully built probo\n",
            "Installing collected packages: probo\n",
            "Successfully installed probo-0.1\n"
          ],
          "name": "stdout"
        }
      ]
    },
    {
      "metadata": {
        "id": "2m_inhGyJhwU",
        "colab_type": "code",
        "colab": {}
      },
      "cell_type": "code",
      "source": [
        "import pandas as pd\n",
        "import numpy as np\n",
        "import matplotlib.pyplot as plt\n",
        "\n",
        "from probo.marketdata import MarketData\n",
        "from probo.payoff import VanillaPayoff, call_payoff, put_payoff\n",
        "from probo.engine import BinomialPricingEngine, AmericanBinomialPricer, EuropeanBinomialPricer, BlackScholesPricingEngine, BlackScholesPricer\n",
        "from probo.facade import OptionFacade"
      ],
      "execution_count": 0,
      "outputs": []
    },
    {
      "metadata": {
        "id": "WlGIXjSpwjSd",
        "colab_type": "code",
        "colab": {}
      },
      "cell_type": "code",
      "source": [
        "thedata = MarketData(rate, spot, volatility, dividend)\n",
        "thecall = VanillaPayoff(expiry, strike, call_payoff)\n",
        "theput = VanillaPayoff(expiry, strike, put_payoff)\n",
        "def priceoption(putorcall, style):\n",
        "  pricer = style\n",
        "  binomengine = BinomialPricingEngine(steps, pricer)\n",
        "  option1 = OptionFacade(putorcall, binomengine, thedata )\n",
        "  price1 = option1.price()\n",
        "  print(\"The call price via\", style, \" is: {0:.3f}\".format(price1))"
      ],
      "execution_count": 0,
      "outputs": []
    },
    {
      "metadata": {
        "id": "XpIYocMpYeMX",
        "colab_type": "code",
        "outputId": "6f8f32a9-e2b1-4f4d-ee6e-8217fafcb15d",
        "colab": {
          "base_uri": "https://localhost:8080/",
          "height": 55
        }
      },
      "cell_type": "code",
      "source": [
        "priceoption(thecall, AmericanBinomialPricer)"
      ],
      "execution_count": 0,
      "outputs": [
        {
          "output_type": "stream",
          "text": [
            "The call price via <function AmericanBinomialPricer at 0x7ff2410b8400>  is: 18.283\n"
          ],
          "name": "stdout"
        }
      ]
    },
    {
      "metadata": {
        "id": "9sibAkRZaLQ0",
        "colab_type": "code",
        "outputId": "b1fea4ef-a387-4d83-c59d-4db07770f2f4",
        "colab": {
          "base_uri": "https://localhost:8080/",
          "height": 55
        }
      },
      "cell_type": "code",
      "source": [
        "priceoption(thecall, EuropeanBinomialPricer)"
      ],
      "execution_count": 0,
      "outputs": [
        {
          "output_type": "stream",
          "text": [
            "The call price via <function EuropeanBinomialPricer at 0x7ff26465a9d8>  is: 18.283\n"
          ],
          "name": "stdout"
        }
      ]
    },
    {
      "metadata": {
        "id": "X8gNY0klMxOO",
        "colab_type": "code",
        "outputId": "12e8d6ea-c926-48c8-8124-4ec06fc58b88",
        "colab": {
          "base_uri": "https://localhost:8080/",
          "height": 55
        }
      },
      "cell_type": "code",
      "source": [
        "priceoption(theput, EuropeanBinomialPricer)"
      ],
      "execution_count": 0,
      "outputs": [
        {
          "output_type": "stream",
          "text": [
            "The call price via <function EuropeanBinomialPricer at 0x7ff26465a9d8>  is: 5.979\n"
          ],
          "name": "stdout"
        }
      ]
    },
    {
      "metadata": {
        "id": "O_wsXYGJeLd8",
        "colab_type": "text"
      },
      "cell_type": "markdown",
      "source": [
        "Since the price is the same for the American and European, I would assume early excersise would not be any more beneficial."
      ]
    },
    {
      "metadata": {
        "id": "q90_2m62erWU",
        "colab_type": "code",
        "outputId": "0909b441-ce45-4f24-dfdb-54ed9243907c",
        "colab": {
          "base_uri": "https://localhost:8080/",
          "height": 35
        }
      },
      "cell_type": "code",
      "source": [
        "binomengine = BinomialPricingEngine(steps,EuropeanBinomialPricer)\n",
        "option1 = OptionFacade(theput, binomengine, thedata)\n",
        "price1 = option1.price()\n",
        "option2 = OptionFacade(thecall, binomengine, thedata)\n",
        "price2 = option2.price()\n",
        "\n",
        "strikepv = strike * np.exp(-rate*1)\n",
        "callside = price2 + strikepv\n",
        "putside = spot + price1\n",
        "if callside == putside:\n",
        "  print('The put-call parity holds')\n",
        "else:\n",
        "  print('The put-call parity holds')"
      ],
      "execution_count": 0,
      "outputs": [
        {
          "output_type": "stream",
          "text": [
            "The put-call parity holds\n"
          ],
          "name": "stdout"
        }
      ]
    },
    {
      "metadata": {
        "id": "bAAVhS4Wey-n",
        "colab_type": "code",
        "outputId": "f0dd4bca-159e-4555-c576-3dffa0e3228b",
        "colab": {
          "base_uri": "https://localhost:8080/",
          "height": 55
        }
      },
      "cell_type": "code",
      "source": [
        "priceoption(theput, AmericanBinomialPricer)"
      ],
      "execution_count": 0,
      "outputs": [
        {
          "output_type": "stream",
          "text": [
            "The call price via <function AmericanBinomialPricer at 0x7ff2410b8400>  is: 6.678\n"
          ],
          "name": "stdout"
        }
      ]
    },
    {
      "metadata": {
        "id": "9xohSaTHNE6b",
        "colab_type": "text"
      },
      "cell_type": "markdown",
      "source": [
        "**2.** Make the same assumptions as in the previous problem, except let $\\delta = 0.03$.\n",
        "\n",
        "* Price an American call option with $n = 200$ binomial periods. \n",
        "* Now price a European call option using the Black-Scholes-Merton model.\n",
        "* Compare the different results. \n",
        "\n",
        "<br>"
      ]
    },
    {
      "metadata": {
        "id": "VLLkZwwdqvDh",
        "colab_type": "code",
        "colab": {}
      },
      "cell_type": "code",
      "source": [
        "steps = 200\n",
        "dividneds = .03\n",
        "thedata = MarketData(rate,spot,volatility, dividend)"
      ],
      "execution_count": 0,
      "outputs": []
    },
    {
      "metadata": {
        "id": "494hbRwkq4xG",
        "colab_type": "code",
        "outputId": "42d54e2d-d59e-4332-c5bb-c807cfbc03f0",
        "colab": {
          "base_uri": "https://localhost:8080/",
          "height": 35
        }
      },
      "cell_type": "code",
      "source": [
        "priceoption(thecall, AmericanBinomialPricer)"
      ],
      "execution_count": 0,
      "outputs": [
        {
          "output_type": "stream",
          "text": [
            "The call price via <function AmericanBinomialPricer at 0x7fc3d48661e0>  is: 18.382\n"
          ],
          "name": "stdout"
        }
      ]
    },
    {
      "metadata": {
        "id": "lS3yzI-31LDA",
        "colab_type": "code",
        "outputId": "4c7e26fb-a144-4e05-f7d1-98e39d290ea5",
        "colab": {
          "base_uri": "https://localhost:8080/",
          "height": 35
        }
      },
      "cell_type": "code",
      "source": [
        "bsengine = BlackScholesPricingEngine(\"call\", BlackScholesPricer)\n",
        "option3 = OptionFacade(thecall, bsengine, thedata)\n",
        "price3 = option3.price()\n",
        "print(\"The Call price via Black-Scholes is: {0:.3f}\".format(price3))"
      ],
      "execution_count": 0,
      "outputs": [
        {
          "output_type": "stream",
          "text": [
            "The Call price via Black-Scholes is: 18.387\n"
          ],
          "name": "stdout"
        }
      ]
    },
    {
      "metadata": {
        "id": "lUt84tgF2QPd",
        "colab_type": "text"
      },
      "cell_type": "markdown",
      "source": [
        "We came up with two very similar prices. "
      ]
    },
    {
      "metadata": {
        "id": "8rbKIxQ43lX9",
        "colab_type": "code",
        "outputId": "981861e0-a39d-46e2-9f94-3214dc646c3b",
        "colab": {
          "base_uri": "https://localhost:8080/",
          "height": 35
        }
      },
      "cell_type": "code",
      "source": [
        "steps = 2000\n",
        "priceoption(thecall, AmericanBinomialPricer)"
      ],
      "execution_count": 0,
      "outputs": [
        {
          "output_type": "stream",
          "text": [
            "The call price via <function AmericanBinomialPricer at 0x7fc3d48661e0>  is: 18.387\n"
          ],
          "name": "stdout"
        }
      ]
    },
    {
      "metadata": {
        "id": "ixZkKLQl38Dj",
        "colab_type": "text"
      },
      "cell_type": "markdown",
      "source": [
        "As you can see, if we up the number of steps, we get a price identical to that of the black scholes model."
      ]
    },
    {
      "metadata": {
        "id": "kpdEnrAMNE6c",
        "colab_type": "text"
      },
      "cell_type": "markdown",
      "source": [
        "## Computational Problems"
      ]
    },
    {
      "metadata": {
        "id": "iXllvCf4NE6d",
        "colab_type": "text"
      },
      "cell_type": "markdown",
      "source": [
        "**3.** The binomial model of underlying asset price dynamics is given as follows (see McDonald Chapter 11):\n",
        "\n",
        "$$\n",
        "S_{t+h} = S_{t} e^{(r - \\delta)h \\pm \\sigma\\sqrt{h}}\n",
        "$$\n",
        "Assume the following data and parameters are given:\n",
        "\n",
        "* $S_{0} = \\$100$\n",
        "* $r = 6\\%$ \n",
        "* $\\sigma = 30\\%$\n",
        "* $T = 5$ years\n",
        "* $h = 0.01$\n",
        "\n",
        "<br>\n",
        "\n",
        "Simulate 500 steps in a path and plot the results below.\n",
        "\n",
        "<br>"
      ]
    },
    {
      "metadata": {
        "id": "s1ToffQCNE6f",
        "colab_type": "code",
        "colab": {}
      },
      "cell_type": "code",
      "source": [
        "## Simulate 500 Steps\n",
        "spot = 100.0\n",
        "rate = .06\n",
        "volatility = .3\n",
        "expiry = 5\n",
        "h  = 1/253\n",
        "T = 5\n",
        "steps = 500\n",
        "u = np.exp(((rate - dividend) * h) + volatility * np.sqrt(h)) \n",
        "d = np.exp(((rate - dividend) * h) - volatility * np.sqrt(h))\n",
        "pu = (np.exp((rate - dividend) * h) - d) / (u - d)\n",
        "dividend = 0\n",
        "\n",
        "#s= np.zeros(steps)\n",
        "s = np.empty(steps)\n",
        "s[0] = spot\n",
        "for t in range(1, steps):\n",
        "  w = np.random.uniform(size = 1)\n",
        "  if w >= pu:\n",
        "    s[t] = s[t-1] * u\n",
        "  else:\n",
        "    s[t] = s[t-1] * d\n",
        " # s[t] = s[t-1] * np.exp((rate - dividend)*h + volatility * np.sqrt(h))\n",
        "binomprice1= pd.Series(s)\n"
      ],
      "execution_count": 0,
      "outputs": []
    },
    {
      "metadata": {
        "id": "8ZRdhNAT2Xvj",
        "colab_type": "code",
        "outputId": "dfc9b683-971a-42e4-eb25-9f75fb91bdad",
        "colab": {
          "base_uri": "https://localhost:8080/",
          "height": 287
        }
      },
      "cell_type": "code",
      "source": [
        "#ts = pd.Series(test)\n",
        "binomprice1.plot()"
      ],
      "execution_count": 0,
      "outputs": [
        {
          "output_type": "execute_result",
          "data": {
            "text/plain": [
              "<matplotlib.axes._subplots.AxesSubplot at 0x7fc3d44eecc0>"
            ]
          },
          "metadata": {
            "tags": []
          },
          "execution_count": 16
        },
        {
          "output_type": "display_data",
          "data": {
            "image/png": "[encoded data removed]",
            "text/plain": [
              "<Figure size 432x288 with 1 Axes>"
            ]
          },
          "metadata": {
            "tags": []
          }
        }
      ]
    },
    {
      "metadata": {
        "id": "emxrVI28NE6j",
        "colab_type": "text"
      },
      "cell_type": "markdown",
      "source": [
        "<br>\n",
        "<br>\n",
        "\n",
        "Now repeat this process 1,000 times and store only the resulting terminal price for each simulated path. Plot a histogram for these resulting terminal prices. Comment on the shape of the histogram. \n",
        "\n",
        "<br>\n",
        "<br>"
      ]
    },
    {
      "metadata": {
        "id": "zlwg9FHINE6k",
        "colab_type": "code",
        "outputId": "7c014d6c-4421-47aa-ffc2-e16e13785fbb",
        "colab": {
          "base_uri": "https://localhost:8080/",
          "height": 287
        }
      },
      "cell_type": "code",
      "source": [
        "## Histogram of terminal prices \n",
        "steps = 1000\n",
        "s = np.empty(steps)\n",
        "s[0] = spot\n",
        "for t in range(1, steps):\n",
        "  w = np.random.uniform(size = 1)\n",
        "  if w >= pu:\n",
        "    s[t] = s[t-1] * u\n",
        "  else:\n",
        "    s[t] = s[t-1] * d\n",
        " # s[t] = s[t-1] * np.exp((rate - dividend)*h + volatility * np.sqrt(h))\n",
        "binomprice2= pd.Series(s)\n",
        "\n",
        "binomprice2.hist()"
      ],
      "execution_count": 0,
      "outputs": [
        {
          "output_type": "execute_result",
          "data": {
            "text/plain": [
              "<matplotlib.axes._subplots.AxesSubplot at 0x7fc3d443ed30>"
            ]
          },
          "metadata": {
            "tags": []
          },
          "execution_count": 17
        },
        {
          "output_type": "display_data",
          "data": {
            "image/png": "[encoded data removed]",
            "text/plain": [
              "<Figure size 432x288 with 1 Axes>"
            ]
          },
          "metadata": {
            "tags": []
          }
        }
      ]
    },
    {
      "metadata": {
        "id": "0o8tYiSiK3oL",
        "colab_type": "code",
        "outputId": "3ca5a986-6487-4577-84f2-63ca1550f75c",
        "colab": {
          "base_uri": "https://localhost:8080/",
          "height": 179
        }
      },
      "cell_type": "code",
      "source": [
        "binomprice2.describe()"
      ],
      "execution_count": 0,
      "outputs": [
        {
          "output_type": "execute_result",
          "data": {
            "text/plain": [
              "count    1000.000000\n",
              "mean      123.952931\n",
              "std        17.605843\n",
              "min        89.858855\n",
              "25%       110.587903\n",
              "50%       122.534297\n",
              "75%       137.772226\n",
              "max       172.284783\n",
              "dtype: float64"
            ]
          },
          "metadata": {
            "tags": []
          },
          "execution_count": 18
        }
      ]
    },
    {
      "metadata": {
        "id": "q4o7KbTXKWif",
        "colab_type": "text"
      },
      "cell_type": "markdown",
      "source": [
        "The histogram appears to be heavily skewed to the left. This leads me to believe that we have quite a few low prices pulling our histogram"
      ]
    },
    {
      "metadata": {
        "id": "5_auo6Z6NE6q",
        "colab_type": "text"
      },
      "cell_type": "markdown",
      "source": [
        "**4.** Now let's rearrange this original formula into a statment about returns (see McDonald Chapter 11).\n",
        "\n",
        "$$\n",
        "\\ln{\\left(S_{t+h} / S_{t}\\right)} = (r - \\delta)h \\pm \\sigma\\sqrt{h}\n",
        "$$\n",
        "\n",
        "<br>\n",
        "<br>\n",
        "\n",
        "Similar to the exercise above simulate a sample path with 500 steps and make a plot. Also, simulate the process 1,000 times keeping only the terminal return. Make a histogram of the resulting simulated terminal returns. Comment on the shape of the histogram. \n",
        "\n",
        "<br>"
      ]
    },
    {
      "metadata": {
        "id": "J1hJ2oR_NE6r",
        "colab_type": "code",
        "colab": {}
      },
      "cell_type": "code",
      "source": [
        "\n",
        "## Simulate returns\n",
        "\n",
        "### your code goes here ###\n",
        "u = np.exp(((rate - dividend) * h) + volatility * np.sqrt(h)) \n",
        "d = np.exp(((rate - dividend) * h) - volatility * np.sqrt(h))\n",
        "pu = (np.exp((rate - dividend) * h) - d) / (u - d)\n",
        "steps = 500\n",
        "ret = np.empty(steps)\n",
        "\n",
        "for t in range(steps):\n",
        "  w = np.random.uniform()\n",
        "  if w >= pu:\n",
        "    ret[t] =  np.log(u)\n",
        "  else:\n",
        "    ret[t] =   np.log(d)\n",
        "  ret[t] = ret[t] + ret[t - 1]\n",
        "#solve the equation a little bit "
      ],
      "execution_count": 0,
      "outputs": []
    },
    {
      "metadata": {
        "id": "IRDt2rOrNE6v",
        "colab_type": "code",
        "outputId": "e394dc9f-3d85-4182-ab33-a77faedcd9bc",
        "colab": {
          "base_uri": "https://localhost:8080/",
          "height": 287
        }
      },
      "cell_type": "code",
      "source": [
        "test = pd.Series(ret)\n",
        "test.plot()"
      ],
      "execution_count": 0,
      "outputs": [
        {
          "output_type": "execute_result",
          "data": {
            "text/plain": [
              "<matplotlib.axes._subplots.AxesSubplot at 0x7fc3d1b4fc50>"
            ]
          },
          "metadata": {
            "tags": []
          },
          "execution_count": 22
        },
        {
          "output_type": "display_data",
          "data": {
            "image/png": "[encoded data removed]",
            "text/plain": [
              "<Figure size 432x288 with 1 Axes>"
            ]
          },
          "metadata": {
            "tags": []
          }
        }
      ]
    },
    {
      "metadata": {
        "id": "vPaTOPPGFRby",
        "colab_type": "code",
        "colab": {}
      },
      "cell_type": "code",
      "source": [
        "steps = 1000\n",
        "ret = np.empty(steps)\n",
        "\n",
        "for t in range(steps):\n",
        "  w = np.random.uniform()\n",
        "  if w>= pu:\n",
        "    ret[t] = np.log(u)\n",
        "  else:\n",
        "    ret[t] = np.log(d)\n",
        "  ret[t] = ret[t] + ret[t - 1]"
      ],
      "execution_count": 0,
      "outputs": []
    },
    {
      "metadata": {
        "id": "AhcMQOpRF6qQ",
        "colab_type": "code",
        "outputId": "cc412af6-e9ab-47c8-f768-b5541c54a8a6",
        "colab": {
          "base_uri": "https://localhost:8080/",
          "height": 287
        }
      },
      "cell_type": "code",
      "source": [
        "step1000 = pd.Series(ret)\n",
        "step1000.hist()"
      ],
      "execution_count": 0,
      "outputs": [
        {
          "output_type": "execute_result",
          "data": {
            "text/plain": [
              "<matplotlib.axes._subplots.AxesSubplot at 0x7fc3d19ee6d8>"
            ]
          },
          "metadata": {
            "tags": []
          },
          "execution_count": 28
        },
        {
          "output_type": "display_data",
          "data": {
            "image/png": "[encoded data removed]",
            "text/plain": [
              "<Figure size 432x288 with 1 Axes>"
            ]
          },
          "metadata": {
            "tags": []
          }
        }
      ]
    },
    {
      "metadata": {
        "id": "VqCgdexJGK6t",
        "colab_type": "text"
      },
      "cell_type": "markdown",
      "source": [
        "The histogram appears to be approxamately normal, giving me confidence in the returns. This is exactly what we should find. "
      ]
    },
    {
      "metadata": {
        "id": "CE-sT6kKNE6x",
        "colab_type": "text"
      },
      "cell_type": "markdown",
      "source": [
        "**5.** The Black-Scholes-Merton model assumes that the underlying asset price follows geometric Brownian motion as follows:\n",
        "\n",
        "<br>\n",
        "\n",
        "$$\n",
        "S_{t+h} = S_{t} e^{(r - \\delta - \\frac{1}{2}\\sigma^{2})h + \\sigma \\sqrt{h} Z}\n",
        "$$\n",
        "where $Z \\sim N(0,1)$. Assume the following:\n",
        "\n",
        "* $S_{0} = \\$40.0$\n",
        "* $K = \\$40.0$\n",
        "* $r = 8\\%$\n",
        "* $\\sigma = 30\\%$\n",
        "* $T = 91/365$ days\n",
        "* $\\delta = 0.0$\n",
        "\n",
        "<br>\n",
        "\n",
        "Simulate prices for 10 days and calculate mark-to-market profits/losses for the delta-hedged position on a written put option. Explain the results.\n",
        "\n",
        "<br>"
      ]
    },
    {
      "metadata": {
        "id": "5lb6nFU2NE6x",
        "colab_type": "code",
        "colab": {}
      },
      "cell_type": "code",
      "source": [
        "## Simulate delta hedging\n",
        "\n",
        "### your code goes here ###\n",
        "from scipy.stats import norm"
      ],
      "execution_count": 0,
      "outputs": []
    },
    {
      "metadata": {
        "id": "qEpsJsooT_LP",
        "colab_type": "code",
        "colab": {}
      },
      "cell_type": "code",
      "source": [
        "def bsmCall(S, K, v, r, t, q):\n",
        "    d1 = ((np.log(S/K) + (r - q + 0.5 * v * v)*t) / (v * np.sqrt(t)))\n",
        "    d2 = d1 - v * np.sqrt(t)\n",
        "    prc = S * np.exp(-q * t) * norm.cdf(d1) - K * np.exp(-r * t) * norm.cdf(d2)\n",
        "    \n",
        "    return prc"
      ],
      "execution_count": 0,
      "outputs": []
    },
    {
      "metadata": {
        "id": "cwx7CCV1T_rj",
        "colab_type": "code",
        "colab": {}
      },
      "cell_type": "code",
      "source": [
        "def bsmPut(S,K,v,r,t,q):\n",
        "    d1 = ((np.log(S/K) + (r - q + 0.5 * v * v)*t) / (v * np.sqrt(t)))\n",
        "    d2 = d1 - v * np.sqrt(t)\n",
        "    prc = K * np.exp(-r * t) * norm.cdf(-d2) - S * np.exp(-q * t) * norm.cdf(-d1)\n",
        "    \n",
        "    return prc"
      ],
      "execution_count": 0,
      "outputs": []
    },
    {
      "metadata": {
        "id": "xC-iE8SKUAN8",
        "colab_type": "code",
        "colab": {}
      },
      "cell_type": "code",
      "source": [
        "def bsmCallDelta(S, K, v, r, t, q):\n",
        "    d1 = ((np.log(S/K) + (r - q + 0.5 * v * v)*t) / (v * np.sqrt(t)))\n",
        "    delta = np.exp(-q * t) * norm.cdf(d1) \n",
        "    \n",
        "    return delta"
      ],
      "execution_count": 0,
      "outputs": []
    },
    {
      "metadata": {
        "id": "SwG2fEg7UAn-",
        "colab_type": "code",
        "colab": {}
      },
      "cell_type": "code",
      "source": [
        "def bsmPutDelta(S, K, v, r, t, q):\n",
        "    d1 = ((np.log(S/K) + (r - q + 0.5 * v * v)*t) / (v * np.sqrt(t)))\n",
        "    delta = np.exp(-q * t) * norm.cdf(-d1) \n",
        "    \n",
        "    return delta"
      ],
      "execution_count": 0,
      "outputs": []
    },
    {
      "metadata": {
        "id": "tyfB5t9vUNTs",
        "colab_type": "code",
        "colab": {}
      },
      "cell_type": "code",
      "source": [
        "def bsmGamma(S, K, v, r, t, q):\n",
        "    d1 = ((np.log(S/K) + (r - q + 0.5 * v * v)*t) / (v * np.sqrt(t)))\n",
        "    gamma = (np.exp(-q * t) * norm.pdf(d1)) / (S * v * np.sqrt(t))\n",
        "    \n",
        "    return gamma"
      ],
      "execution_count": 0,
      "outputs": []
    },
    {
      "metadata": {
        "id": "8ThazrdXUN1R",
        "colab_type": "code",
        "outputId": "2f6a4da7-7ef3-44a8-b166-7f12d7f5d79d",
        "colab": {
          "base_uri": "https://localhost:8080/",
          "height": 71
        }
      },
      "cell_type": "code",
      "source": [
        "S = 40.0\n",
        "K = 40.0\n",
        "v = 0.30\n",
        "r = 0.08\n",
        "tau = 91/365\n",
        "q = 0.0\n",
        "\n",
        "callPrc = bsmCall(S, K, v, r, tau, q)\n",
        "callDelta = bsmCallDelta(S, K, v, r, tau, q)\n",
        "callGamma = bsmGamma(S, K, v, r, tau, q)\n",
        "print(f\"The Call Price: {callPrc : 0.4f}\")\n",
        "print(f\"The Call Delta: {callDelta : 0.4f}\")\n",
        "print(f\"The Call Gamma: {callGamma : 0.4f}\")"
      ],
      "execution_count": 0,
      "outputs": [
        {
          "output_type": "stream",
          "text": [
            "The Call Price:  2.7804\n",
            "The Call Delta:  0.5824\n",
            "The Call Gamma:  0.0652\n"
          ],
          "name": "stdout"
        }
      ]
    },
    {
      "metadata": {
        "id": "poJMbFuUUOOD",
        "colab_type": "code",
        "colab": {}
      },
      "cell_type": "code",
      "source": [
        "class MarketMaker(object):\n",
        "    def __init__(self, spot, strike, vol, rate, expiry, div, pricer, delta):\n",
        "        self.__spot = spot\n",
        "        self.__strike = strike\n",
        "        self.__vol = vol\n",
        "        self.__rate = rate\n",
        "        self.__expiry = expiry\n",
        "        self.__dt = 1/365\n",
        "        self.__div = div\n",
        "        self.__pricer = pricer\n",
        "        self.__delta = delta\n",
        "        self.__units = 100.0\n",
        "        self.__option = self.__units * self.__pricer(self.__spot, self.__strike, self.__vol, self.__rate, self.__expiry, self.__div)\n",
        "        self.__option_delta = self.__units * self.__delta(self.__spot, self.__strike, self.__vol, self.__rate, self.__expiry, self.__div)\n",
        "        self.__market_value = self.__option_delta * self.__spot - self.__option\n",
        "        self.__interest = 0.0\n",
        "        self.__capital_gain = 0.0\n",
        "        self.__profit = 0.0\n",
        "              \n",
        "    def show(self):\n",
        "        print(\"Stock ($): \\t\\t{0:.2f}\".format(self.__spot))\n",
        "        print(\"Option ($): \\t\\t{0:.2f}\".format(self.__option))\n",
        "        print(\"100 x Delta: \\t\\t{0:.2f}\".format(self.__option_delta))\n",
        "        print(\"Investment ($): \\t{0:0.2f}\".format(self.__market_value))\n",
        "        print(\"Interest ($): \\t\\t{0:0.2f}\".format(self.__interest))\n",
        "        print(\"Capital Gain ($): \\t{0:0.2f}\".format(self.__capital_gain))\n",
        "        print(\"Daily Profit ($): \\t{0:0.2f}\".format(self.__profit))\n",
        "        print(\"\\n\")\n",
        "\n",
        "    def update(self, spot):\n",
        "        mktVal = self.__market_value\n",
        "        optDelta = self.__option_delta\n",
        "        self.__interest = -(np.exp(self.__rate / 365) - 1.0) * mktVal\n",
        "        self.__spot = spot\n",
        "        self.__expiry -= self.__dt\n",
        "        self.__option = self.__units * self.__pricer(self.__spot, self.__strike, self.__vol, self.__rate, self.__expiry, self.__div)\n",
        "        self.__option_delta = self.__units * self.__delta(self.__spot, self.__strike, self.__vol, self.__rate, self.__expiry, self.__div)\n",
        "        self.__market_value = self.__option_delta * self.__spot - self.__option\n",
        "        self.__capital_gain = self.__market_value - mktVal - (spot * (self.__option_delta - optDelta))\n",
        "        self.__profit = self.__market_value - mktVal - (spot * (self.__option_delta - optDelta)) + self.__interest"
      ],
      "execution_count": 0,
      "outputs": []
    },
    {
      "metadata": {
        "id": "QLwtUmY5XNZ8",
        "colab_type": "code",
        "outputId": "33d2efbe-e575-4406-e357-3332b1d163ee",
        "colab": {
          "base_uri": "https://localhost:8080/",
          "height": 295
        }
      },
      "cell_type": "code",
      "source": [
        "a = r\n",
        "dt = 1.0/253.0\n",
        "N = 10\n",
        "z = np.random.normal(size=N)\n",
        "nudt = (a - q - 0.5 * v * v) * dt\n",
        "sigdt = (v * np.sqrt(dt))\n",
        "\n",
        "path = np.zeros(N)\n",
        "path[0] = S\n",
        "\n",
        "for t in range(1,N):\n",
        "    path[t] = path[t-1] * np.exp(nudt + sigdt * z[t])\n",
        "\n",
        "## plot the simulated returns path\n",
        "fig, ax = plt.subplots()\n",
        "#ax.plot_date(r, linestyle='--')\n",
        "ax.grid(True)\n",
        "plt.title(\"Simulated Goemetric Brownian Motion Prices\")\n",
        "plt.ylabel(\"Daily Price ($)\")\n",
        "plt.xlabel(\"Trading Day\")\n",
        "plt.plot(path, linewidth=2.5, color=\"orange\")\n",
        "plt.show()"
      ],
      "execution_count": 0,
      "outputs": [
        {
          "output_type": "display_data",
          "data": {
            "image/png": "[encoded data removed]",
            "text/plain": [
              "<Figure size 432x288 with 1 Axes>"
            ]
          },
          "metadata": {
            "tags": []
          }
        }
      ]
    },
    {
      "metadata": {
        "id": "g5xaIMc2UOmg",
        "colab_type": "code",
        "outputId": "829a967a-bf04-4efe-887b-2291cc507a56",
        "colab": {
          "base_uri": "https://localhost:8080/",
          "height": 2195
        }
      },
      "cell_type": "code",
      "source": [
        "## See McDonald 3rd pp. 386, Table 13.2\n",
        "#spot_t = [40.50, 39.25, 38.75, 40.0, 40.0]\n",
        "import random \n",
        "#spot_t = random.sample(range(35,45),10)\n",
        "spot_t = path\n",
        "mm = MarketMaker(S, K, v, r, tau, q, bsmCall, bsmCallDelta)\n",
        "\n",
        "print(\"Day t={0:d}\".format(0))\n",
        "print(\"-------------------------------\")\n",
        "mm.show()\n",
        "\n",
        "for t, spot in enumerate(spot_t):\n",
        "    mm.update(spot)\n",
        "    print(\"Day t={0:d}\".format(t+1))\n",
        "    print(\"-------------------------------\")\n",
        "    mm.show()"
      ],
      "execution_count": 0,
      "outputs": [
        {
          "output_type": "stream",
          "text": [
            "Day t=0\n",
            "-------------------------------\n",
            "Stock ($): \t\t40.00\n",
            "Option ($): \t\t278.04\n",
            "100 x Delta: \t\t58.24\n",
            "Investment ($): \t2051.58\n",
            "Interest ($): \t\t0.00\n",
            "Capital Gain ($): \t0.00\n",
            "Daily Profit ($): \t0.00\n",
            "\n",
            "\n",
            "Day t=1\n",
            "-------------------------------\n",
            "Stock ($): \t\t40.00\n",
            "Option ($): \t\t276.30\n",
            "100 x Delta: \t\t58.20\n",
            "Investment ($): \t2051.52\n",
            "Interest ($): \t\t-0.45\n",
            "Capital Gain ($): \t1.74\n",
            "Daily Profit ($): \t1.29\n",
            "\n",
            "\n",
            "Day t=2\n",
            "-------------------------------\n",
            "Stock ($): \t\t41.30\n",
            "Option ($): \t\t355.28\n",
            "100 x Delta: \t\t66.31\n",
            "Investment ($): \t2383.08\n",
            "Interest ($): \t\t-0.45\n",
            "Capital Gain ($): \t-3.57\n",
            "Daily Profit ($): \t-4.02\n",
            "\n",
            "\n",
            "Day t=3\n",
            "-------------------------------\n",
            "Stock ($): \t\t41.40\n",
            "Option ($): \t\t360.36\n",
            "100 x Delta: \t\t66.93\n",
            "Investment ($): \t2410.37\n",
            "Interest ($): \t\t-0.52\n",
            "Capital Gain ($): \t1.75\n",
            "Daily Profit ($): \t1.23\n",
            "\n",
            "\n",
            "Day t=4\n",
            "-------------------------------\n",
            "Stock ($): \t\t40.97\n",
            "Option ($): \t\t330.59\n",
            "100 x Delta: \t\t64.34\n",
            "Investment ($): \t2305.40\n",
            "Interest ($): \t\t-0.53\n",
            "Capital Gain ($): \t1.24\n",
            "Daily Profit ($): \t0.71\n",
            "\n",
            "\n",
            "Day t=5\n",
            "-------------------------------\n",
            "Stock ($): \t\t42.26\n",
            "Option ($): \t\t416.37\n",
            "100 x Delta: \t\t71.88\n",
            "Investment ($): \t2620.91\n",
            "Interest ($): \t\t-0.51\n",
            "Capital Gain ($): \t-3.15\n",
            "Daily Profit ($): \t-3.65\n",
            "\n",
            "\n",
            "Day t=6\n",
            "-------------------------------\n",
            "Stock ($): \t\t42.34\n",
            "Option ($): \t\t420.64\n",
            "100 x Delta: \t\t72.37\n",
            "Investment ($): \t2643.62\n",
            "Interest ($): \t\t-0.57\n",
            "Capital Gain ($): \t1.76\n",
            "Daily Profit ($): \t1.19\n",
            "\n",
            "\n",
            "Day t=7\n",
            "-------------------------------\n",
            "Stock ($): \t\t41.73\n",
            "Option ($): \t\t375.74\n",
            "100 x Delta: \t\t68.94\n",
            "Investment ($): \t2501.34\n",
            "Interest ($): \t\t-0.58\n",
            "Capital Gain ($): \t0.77\n",
            "Daily Profit ($): \t0.19\n",
            "\n",
            "\n",
            "Day t=8\n",
            "-------------------------------\n",
            "Stock ($): \t\t41.82\n",
            "Option ($): \t\t380.16\n",
            "100 x Delta: \t\t69.49\n",
            "Investment ($): \t2526.13\n",
            "Interest ($): \t\t-0.55\n",
            "Capital Gain ($): \t1.79\n",
            "Daily Profit ($): \t1.24\n",
            "\n",
            "\n",
            "Day t=9\n",
            "-------------------------------\n",
            "Stock ($): \t\t42.28\n",
            "Option ($): \t\t411.13\n",
            "100 x Delta: \t\t72.17\n",
            "Investment ($): \t2640.60\n",
            "Interest ($): \t\t-0.55\n",
            "Capital Gain ($): \t1.19\n",
            "Daily Profit ($): \t0.64\n",
            "\n",
            "\n",
            "Day t=10\n",
            "-------------------------------\n",
            "Stock ($): \t\t43.18\n",
            "Option ($): \t\t476.11\n",
            "100 x Delta: \t\t76.96\n",
            "Investment ($): \t2846.74\n",
            "Interest ($): \t\t-0.58\n",
            "Capital Gain ($): \t-0.39\n",
            "Daily Profit ($): \t-0.97\n",
            "\n",
            "\n"
          ],
          "name": "stdout"
        }
      ]
    },
    {
      "metadata": {
        "id": "1P-nA6MAbZsQ",
        "colab_type": "text"
      },
      "cell_type": "markdown",
      "source": [
        "In the first two periods, you can see that if the stock price is staying constant, the option price is slowly decaying as time passes. The 100 x delta is changing as we rebalance our portfolio everyday. The daily profit is jumping around as we have to buy more or sell our shares. The interest is contributing very little. The main P&L is the borrowing +- the buy/sell of our shares in order to reach the proper portfolio position."
      ]
    },
    {
      "metadata": {
        "id": "2fKzdCl8NE6y",
        "colab_type": "text"
      },
      "cell_type": "markdown",
      "source": [
        "<br>\n",
        "<br>\n",
        "\n",
        "**6.** The Black-Scholes-Merton (BSM) technique for deriving their famous formula was to conceive of an option market-maker delta hedging in continuous time. Check your intuition for this process by simulating the process and comparing the results to the Black-Scholes-Merton formula. Assume the parameters as above, except let $T = 1$ year and $\\mu = 10\\%$. Note that you must simulate asset prices under the real-world density (not the risk-neutral density). In the simulation let $h = \\frac{1}{365}$, and $M = 10,000$ replications. Use the same geometric Brownian motion process as above and make sure to check for terminal exercise. The average cost of hedging should approximate the BSM price. Compare the delta-hedging simulation results to the theoretical results from the BSM model. (See McDonald Chapters 13 & 19).\n",
        "\n",
        "<br>\n",
        "\n",
        "*Note:* if you find this exercise challenging, just think of the single-period binomial model $C = \\Delta S + B$. You won't actually use this model directly (you will use the BSM delta instead), but it should give you inspiration.\n",
        "\n",
        "<br>\n",
        "<br>"
      ]
    },
    {
      "metadata": {
        "id": "J_6NU0m4NE6z",
        "colab_type": "code",
        "colab": {}
      },
      "cell_type": "code",
      "source": [
        "## Simulate the BSM price via delta-hedging Monte Carlo\n",
        "\n",
        "### your code goes here ###"
      ],
      "execution_count": 0,
      "outputs": []
    },
    {
      "metadata": {
        "id": "J_UmKQXHNE61",
        "colab_type": "code",
        "colab": {}
      },
      "cell_type": "code",
      "source": [
        "\n",
        "def AssetPaths(spot, mu, sigma, expiry, div, nreps, nsteps):\n",
        "    paths = np.empty((nreps, nsteps + 1))\n",
        "    h = expiry / nsteps\n",
        "    paths[:, 0] = spot\n",
        "    mudt = (mu - div - 0.5 * sigma * sigma) * h\n",
        "    sigmadt = sigma * np.sqrt(h)\n",
        "    \n",
        "    for t in range(1, nsteps + 1):\n",
        "        z = np.random.normal(size=nreps)\n",
        "        paths[:, t] = paths[:, t-1] * np.exp(mudt + sigmadt * z)\n",
        "\n",
        "    return paths"
      ],
      "execution_count": 0,
      "outputs": []
    },
    {
      "metadata": {
        "id": "R5O-8ZB7zz2Y",
        "colab_type": "code",
        "colab": {}
      },
      "cell_type": "code",
      "source": [
        "def bsmCallDelta(S, K, r, v, q, tau):\n",
        "    d1 = (np.log(S/K) + (r - q + 0.5 * v * v) * T) / (v * np.sqrt(T))\n",
        "    \n",
        "    return np.exp(-q * T) * norm.cdf(d1)"
      ],
      "execution_count": 0,
      "outputs": []
    },
    {
      "metadata": {
        "id": "Nh88gTkfz0YJ",
        "colab_type": "code",
        "colab": {}
      },
      "cell_type": "code",
      "source": [
        "def deltaHedging(S, K, mu, sigma, r, T, paths):\n",
        "    m, n = paths.shape\n",
        "    cost = np.zeros(m)\n",
        "    cashFlows = np.zeros(n)\n",
        "    h = T / n\n",
        "    df = np.exp(-r * np.arange(n) * h)\n",
        "    tau = T - np.arange(n) * h\n",
        "    \n",
        "    for k in range(m):\n",
        "        path = paths[k]\n",
        "        position = 0.0\n",
        "        deltas = bsmCallDelta(path, K, r, v, q, tau)\n",
        "        \n",
        "        for t in range(n):\n",
        "            cashFlows[t] = (position - deltas[t]) * path[t]\n",
        "            position = deltas[t]\n",
        "            \n",
        "        if (path[-1] >= K):\n",
        "            cashFlows[-1] = K - (1 - position) * path[-1]\n",
        "        else:\n",
        "            cashFlows[-1] = position * path[-1]\n",
        "        \n",
        "        cost[k] = -np.dot(df, cashFlows)\n",
        "        \n",
        "    return np.mean(cost)"
      ],
      "execution_count": 0,
      "outputs": []
    },
    {
      "metadata": {
        "id": "3usrAjFi05Ve",
        "colab_type": "code",
        "outputId": "bf8d08a5-df52-467b-c0fd-e6b60496b758",
        "colab": {
          "base_uri": "https://localhost:8080/",
          "height": 53
        }
      },
      "cell_type": "code",
      "source": [
        "def bsmCallPrice(S, K, r, v, q, T):\n",
        "    d1 = (np.log(S/K) + (r - q + 0.5 * v * v) * T) / (v * np.sqrt(T))\n",
        "    d2 = (np.log(S/K) + (r - q - 0.5 * v * v) * T) / (v * np.sqrt(T))\n",
        "    callPrc = S * np.exp(-q * T) * norm.cdf(d1) - K * np.exp(-r * T) * norm.cdf(d2)\n",
        "    \n",
        "    return callPrc\n",
        "\n",
        "def bsmPutPrice(S, K, r, v, q, T):\n",
        "    d1 = (np.log(S/K) + (r - q + 0.5 * v * v) * T) / (v * np.sqrt(T))\n",
        "    d2 = (np.log(S/K) + (r - q - 0.5 * v * v) * T) / (v * np.sqrt(T))\n",
        "    putPrc =  K * np.exp(-r * T) * norm.cdf(-d2) - S * np.exp(-q * T) * norm.cdf(-d1)\n",
        "    \n",
        "    return putPrc   \n",
        "\n",
        "print(f\"The BSM Call Price is: {bsmCallPrice(41.0, 40.0, 0.08, 0.30, 0.0, 1.0) : 0.2f}\")\n",
        "print(f\"The BSM Put Price is: {bsmPutPrice(41.0, 40.0, 0.08, 0.30, 0.0, 1.0) : 0.2f}\")"
      ],
      "execution_count": 0,
      "outputs": [
        {
          "output_type": "stream",
          "text": [
            "The BSM Call Price is:  6.96\n",
            "The BSM Put Price is:  2.89\n"
          ],
          "name": "stdout"
        }
      ]
    },
    {
      "metadata": {
        "id": "uWZ9XyDZ0TU6",
        "colab_type": "code",
        "colab": {}
      },
      "cell_type": "code",
      "source": [
        "\n",
        "mu = .1\n",
        "m = 1000000\n",
        "n = 356"
      ],
      "execution_count": 0,
      "outputs": []
    },
    {
      "metadata": {
        "id": "1DkrZz5Rz00Z",
        "colab_type": "code",
        "outputId": "05045829-5c80-47af-a58f-c90951040964",
        "colab": {
          "base_uri": "https://localhost:8080/",
          "height": 53
        }
      },
      "cell_type": "code",
      "source": [
        "paths = AssetPaths(S, mu, v, T, q, m, n)\n",
        "delHdgPrc = deltaHedging(S, K, mu, v, r, T, paths)\n",
        "bsmPrc = bsmCallPrice(S, K, r, v, q, T)\n",
        "print(f\"The BSM Call Price is: {bsmPrc : 0.4f}\")\n",
        "print(f\"The Delta-Hedging Monte Carlo Call Price is: {delHdgPrc : 0.4f}\")"
      ],
      "execution_count": 0,
      "outputs": [
        {
          "output_type": "stream",
          "text": [
            "The BSM Call Price is:  16.8045\n",
            "The Delta-Hedging Monte Carlo Call Price is:  16.6087\n"
          ],
          "name": "stdout"
        }
      ]
    },
    {
      "metadata": {
        "id": "PV7xmX6J-RYs",
        "colab_type": "text"
      },
      "cell_type": "markdown",
      "source": [
        "As you can see, using the monte carlo simulation, we are able to get very close to the black scholes price. with 10000 repetitions, the monte carlo is going to be pretty percise. The law of large numbers tells us that the average of a large sample of iid random variables will be close to the mean."
      ]
    },
    {
      "metadata": {
        "id": "dzE0jmFoNE63",
        "colab_type": "text"
      },
      "cell_type": "markdown",
      "source": [
        "## Brief Essay Problems\n",
        "\n",
        "\n",
        "<br>\n",
        "<br>"
      ]
    },
    {
      "metadata": {
        "id": "L26GJqRXNE64",
        "colab_type": "text"
      },
      "cell_type": "markdown",
      "source": [
        "**7.** According to Christopher Culp \"... it becomes quite hard to explain a lot of financial and derivatives market activity without being a little bit Austrian.\" Discuss this statement in the context of the delta-hedging process of the option market-maker. You may also want to reference the Enron (Culp & Hanke) and Metallgesellschaft (Culp & Miller) cases and the citations therein. "
      ]
    },
    {
      "metadata": {
        "id": "8LVxmdQLNE64",
        "colab_type": "text"
      },
      "cell_type": "markdown",
      "source": [
        "If the market were in equilibrium, there would be no volatitiy. With no volatiliy, delta hedging would actually erode the value of our posiiton. Since we are instead trending toward equilibrium, we can figure out delta and go from there. The arbitrage opportunity is there. In equilibrium there is no room for any of this. Uncertinty is essential. MGRMs whole strategy would not be needed if we were in equilibrium. We would not need the market maker. Since we are instead trending toward equilibrium, the market maker is essential to the market for balancing everything out. "
      ]
    }
  ]
}